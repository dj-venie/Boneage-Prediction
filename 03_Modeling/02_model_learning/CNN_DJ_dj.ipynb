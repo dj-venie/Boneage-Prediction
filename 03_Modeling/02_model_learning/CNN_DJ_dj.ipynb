{
 "cells": [
  {
   "cell_type": "markdown",
   "metadata": {},
   "source": [
    "# 패키지"
   ]
  },
  {
   "cell_type": "code",
   "execution_count": 6,
   "metadata": {},
   "outputs": [],
   "source": [
    "import cv2\n",
    "import pandas as pd\n",
    "import numpy as np\n",
    "import matplotlib.pyplot as plt\n",
    "import tensorflow as tf\n",
    "import os\n",
    "from tensorflow.keras.models import *\n",
    "from tensorflow.keras.layers import *\n",
    "from tensorflow.keras.optimizers import *\n",
    "from tensorflow.keras.callbacks import *\n",
    "\n",
    "\n",
    "%matplotlib inline\n",
    "\n",
    "# plt.style.use('dark_background')\n"
   ]
  },
  {
   "cell_type": "markdown",
   "metadata": {},
   "source": [
    "## 함수모음\n",
    "- generator : input과 oupt을 만들어주는 함수\n",
    "- plot_it : 학습후 모델 그래프를 만들고 저장해주는 함수\n",
    "- mae_in_month : 정규화된 값을 학습시키기 때문에 개월로 변경한 mae계산해주는 함수"
   ]
  },
  {
   "cell_type": "code",
   "execution_count": 7,
   "metadata": {},
   "outputs": [],
   "source": [
    "def generator(df,model,n):\n",
    "    \n",
    "    age = np.array(df.BA_z)\n",
    "    img_size = model.input[1].shape[1]\n",
    "    \n",
    "    img_in = []   \n",
    "    for file_path in df.roi_filename:\n",
    "        img = cv2.imread(path+'/'+file_path)\n",
    "        small = cv2.resize(img, (img_size,img_size),cv2.INTER_AREA)\n",
    "        img_in.append(small)\n",
    "    img_in = np.array(img_in)\n",
    "        \n",
    "    if n==1:\n",
    "        return img_in,age\n",
    "    \n",
    "    gender_in = np.array(df.gender)\n",
    "    \n",
    "    if n==2:\n",
    "        return [gender_in,img_in],age\n",
    "#     bimg_path = \n",
    "    bimg_size = model.input[0].shape[1]\n",
    "    bimg_in = []\n",
    "    for file_path in df.filename:\n",
    "        img = cv2.imread(bimg_path+'/'+file_path)\n",
    "        small = cv2.resize(img, (bimg_size,bimg_size),cv2.INTER_AREA)\n",
    "        bimg_in.append(small)\n",
    "    bimg_in = np.array(bimg_in)\n",
    "    \n",
    "    if n==3:\n",
    "        return [bimg_in,img_in,gender_in],age\n",
    "    \n",
    "# process시각화 및 손실함수\n",
    "\n",
    "def plot_it(history):\n",
    "    '''function to plot training and validation error'''\n",
    "    fig, ax = plt.subplots( figsize=(20,10))\n",
    "    ax.plot(history.history['mae_in_months'])\n",
    "    ax.plot(history.history['val_mae_in_months'])\n",
    "    plt.title('Model Error')\n",
    "    plt.ylabel('error')\n",
    "    plt.xlabel('Epoch')\n",
    "    plt.legend(['Train', 'Val'], loc='upper right')\n",
    "    ax.grid(color='black')\n",
    "#     plt.show()\n",
    "    fig = plt.gcf()\n",
    "    fig.savefig(\"temp/\"+model_name+\".jpg\")\n",
    "#     plt.close(fig)\n",
    "\n",
    "    \n",
    "from tensorflow.keras.metrics import mean_absolute_error\n",
    "\n",
    "def mae_in_months(x_p, y_p):\n",
    "    '''function to return mae in months'''\n",
    "    return mean_absolute_error((ba_std*x_p + ba_mean), (ba_std*y_p + ba_mean)) "
   ]
  },
  {
   "cell_type": "markdown",
   "metadata": {},
   "source": [
    "## 데이터 파편화 줄이기 gpu 할당"
   ]
  },
  {
   "cell_type": "code",
   "execution_count": 8,
   "metadata": {},
   "outputs": [
    {
     "name": "stdout",
     "output_type": "stream",
     "text": [
      "Mon Aug 24 17:48:51 2020       \n",
      "+-----------------------------------------------------------------------------+\n",
      "| NVIDIA-SMI 418.67       Driver Version: 418.67       CUDA Version: 10.1     |\n",
      "|-------------------------------+----------------------+----------------------+\n",
      "| GPU  Name        Persistence-M| Bus-Id        Disp.A | Volatile Uncorr. ECC |\n",
      "| Fan  Temp  Perf  Pwr:Usage/Cap|         Memory-Usage | GPU-Util  Compute M. |\n",
      "|===============================+======================+======================|\n",
      "|   0  Tesla V100-SXM2...  On   | 00000000:00:05.0 Off |                  Off |\n",
      "| N/A   35C    P0    55W / 300W |  11557MiB / 32480MiB |      3%      Default |\n",
      "+-------------------------------+----------------------+----------------------+\n",
      "|   1  Tesla V100-SXM2...  On   | 00000000:00:06.0 Off |                  Off |\n",
      "| N/A   36C    P0    52W / 300W |    317MiB / 32480MiB |      0%      Default |\n",
      "+-------------------------------+----------------------+----------------------+\n",
      "                                                                               \n",
      "+-----------------------------------------------------------------------------+\n",
      "| Processes:                                                       GPU Memory |\n",
      "|  GPU       PID   Type   Process name                             Usage      |\n",
      "|=============================================================================|\n",
      "|    0      4455      C   /home/centos/anaconda3/bin/python            307MiB |\n",
      "|    0     50961      C   ...naconda3/envs/tensorflow_p36/bin/python  8737MiB |\n",
      "|    0     76590      C   /home/centos/anaconda3/bin/python           2503MiB |\n",
      "|    1     50961      C   ...naconda3/envs/tensorflow_p36/bin/python   307MiB |\n",
      "+-----------------------------------------------------------------------------+\n",
      "\n"
     ]
    }
   ],
   "source": [
    "from tensorflow.compat.v1 import ConfigProto,InteractiveSession\n",
    "os.environ[\"CUDA_VISIBLE_DEVICES\"] = '1'\n",
    "config = ConfigProto()\n",
    "config.gpu_options.allow_growth = True\n",
    "session = InteractiveSession(config = config)\n",
    "\n",
    "print(os.popen('nvidia-smi').read())"
   ]
  },
  {
   "cell_type": "markdown",
   "metadata": {},
   "source": [
    "## DataFrame 전처리\n",
    "- 여기서 이미지 사이즈 조절\n",
    "- 여기서 model이름 설정\n",
    "- path 조절\n",
    "- train_test_split"
   ]
  },
  {
   "cell_type": "code",
   "execution_count": 9,
   "metadata": {},
   "outputs": [],
   "source": [
    "# df, img 불러오고 model화 시키기 전 전처리과정\n",
    "\n",
    "model_name = \"djnet\"\n",
    "model_weight = model_name +\"_weight.h5\"\n",
    "\n",
    "path = \"../00_roi_final\"\n",
    "\n",
    "\n",
    "\n",
    "df = pd.read_excel(path+\"/BA_Total.xlsx\")\n",
    "l = len(df)\n",
    "\n",
    "\n",
    "df['boneage'] = df.BA*12\n",
    "ba_mean = df.boneage.mean()\n",
    "ba_std = df.boneage.std()\n",
    "df[\"BA_z\"] = (df.boneage-ba_mean)/ba_std\n",
    "\n",
    "file_name = np.array([\"{0:03d}_05.jpg\".format(i+1) for i in range(l)])\n",
    "df[\"roi_filename\"] = file_name\n",
    "\n",
    "\n",
    "df[\"gender\"] = (df[\"성별\"]+1)%2\n",
    "\n",
    "new_df = df.drop([425])\n",
    "new_df = new_df.reset_index(drop=True)"
   ]
  },
  {
   "cell_type": "markdown",
   "metadata": {},
   "source": [
    "## 모델 생성"
   ]
  },
  {
   "cell_type": "code",
   "execution_count": 5,
   "metadata": {},
   "outputs": [],
   "source": [
    "import sys\n",
    "sys.path.insert(0,'/home/centos/X-Age_Ver1/03_Modeling/01_model_module')"
   ]
  },
  {
   "cell_type": "code",
   "execution_count": 6,
   "metadata": {},
   "outputs": [],
   "source": [
    "import CNN_model_module as models\n",
    "\n",
    "model = models.tjnetse2()\n",
    "model.save(\"../03_model_result/\"+model_name+\".h5\")\n",
    "\n",
    "model.compile(loss ='mse', optimizer= 'nadam', metrics = [mae_in_months] )"
   ]
  },
  {
   "cell_type": "markdown",
   "metadata": {},
   "source": [
    "## train_val_set 만들기"
   ]
  },
  {
   "cell_type": "code",
   "execution_count": 7,
   "metadata": {},
   "outputs": [],
   "source": [
    "from sklearn.model_selection import train_test_split\n",
    "\n",
    "train_df, val_df = train_test_split(df, test_size = 0.2, random_state = 0)\n",
    "\n",
    "train_X,train_y = generator(train_df,model,2)\n",
    "val_X,val_y = generator(val_df,model,2)"
   ]
  },
  {
   "cell_type": "markdown",
   "metadata": {},
   "source": [
    "## preprocess"
   ]
  },
  {
   "cell_type": "code",
   "execution_count": 8,
   "metadata": {
    "scrolled": false
   },
   "outputs": [],
   "source": [
    "# from tensorflow.keras.applications.vgg19 import preprocess_input as pre\n",
    "# train_X[1] = pre(train_X[1])\n",
    "# val_X[1] = pre(val_X[1])"
   ]
  },
  {
   "cell_type": "markdown",
   "metadata": {},
   "source": [
    "## 초반에 loss 심한거 뺄려고 한번만 먼저 돌리기"
   ]
  },
  {
   "cell_type": "code",
   "execution_count": 9,
   "metadata": {},
   "outputs": [
    {
     "name": "stdout",
     "output_type": "stream",
     "text": [
      "11/11 [==============================] - 5s 463ms/step - loss: 153799.1094 - mae_in_months: 2173.4150 - val_loss: 1.1721 - val_mae_in_months: 15.6079\n"
     ]
    },
    {
     "data": {
      "text/plain": [
       "<tensorflow.python.keras.callbacks.History at 0x7ff600151390>"
      ]
     },
     "execution_count": 9,
     "metadata": {},
     "output_type": "execute_result"
    }
   ],
   "source": [
    "# model.load_weights(\"../03_model_result/\"+model_weight)\n",
    "model.fit(train_X,train_y,\n",
    "                 validation_data = (val_X,val_y),\n",
    "                 epochs = 1)"
   ]
  },
  {
   "cell_type": "markdown",
   "metadata": {},
   "source": [
    "## 모델학습"
   ]
  },
  {
   "cell_type": "code",
   "execution_count": 10,
   "metadata": {
    "scrolled": true
   },
   "outputs": [
    {
     "name": "stdout",
     "output_type": "stream",
     "text": [
      "Epoch 1/1000\n",
      "11/11 [==============================] - 11s 999ms/step - loss: 0.9988 - mae_in_months: 15.0025 - val_loss: 1.0960 - val_mae_in_months: 14.9629 - lr: 0.0010\n",
      "Epoch 2/1000\n",
      "11/11 [==============================] - 4s 327ms/step - loss: 1.0205 - mae_in_months: 15.1527 - val_loss: 20.2403 - val_mae_in_months: 81.2400 - lr: 0.0010\n",
      "Epoch 3/1000\n",
      "11/11 [==============================] - 4s 327ms/step - loss: 1.5579 - mae_in_months: 17.9610 - val_loss: 5.8399 - val_mae_in_months: 41.9072 - lr: 0.0010\n",
      "Epoch 4/1000\n",
      "11/11 [==============================] - 4s 326ms/step - loss: 0.9592 - mae_in_months: 14.7042 - val_loss: 1.2387 - val_mae_in_months: 16.5225 - lr: 0.0010\n",
      "Epoch 5/1000\n",
      "11/11 [==============================] - 11s 1s/step - loss: 0.9353 - mae_in_months: 14.4950 - val_loss: 0.9360 - val_mae_in_months: 13.8424 - lr: 0.0010\n",
      "Epoch 6/1000\n",
      "11/11 [==============================] - 11s 1s/step - loss: 1.1556 - mae_in_months: 15.3108 - val_loss: 0.9170 - val_mae_in_months: 14.0668 - lr: 0.0010\n",
      "Epoch 7/1000\n",
      "11/11 [==============================] - 4s 327ms/step - loss: 0.6159 - mae_in_months: 11.4201 - val_loss: 8.0226 - val_mae_in_months: 50.2719 - lr: 0.0010\n",
      "Epoch 8/1000\n",
      "11/11 [==============================] - 4s 326ms/step - loss: 0.8682 - mae_in_months: 13.8528 - val_loss: 1.7582 - val_mae_in_months: 21.0604 - lr: 0.0010\n",
      "Epoch 9/1000\n",
      "11/11 [==============================] - 4s 328ms/step - loss: 8.9450 - mae_in_months: 32.5144 - val_loss: 1.1732 - val_mae_in_months: 15.6551 - lr: 0.0010\n",
      "Epoch 10/1000\n",
      "11/11 [==============================] - 4s 328ms/step - loss: 1.0791 - mae_in_months: 15.0581 - val_loss: 0.9872 - val_mae_in_months: 14.8899 - lr: 0.0010\n",
      "Epoch 11/1000\n",
      "11/11 [==============================] - 4s 327ms/step - loss: 0.9656 - mae_in_months: 14.4488 - val_loss: 1.1236 - val_mae_in_months: 15.2674 - lr: 0.0010\n",
      "Epoch 12/1000\n",
      "11/11 [==============================] - 4s 328ms/step - loss: 0.9410 - mae_in_months: 14.6404 - val_loss: 0.9292 - val_mae_in_months: 14.0897 - lr: 0.0010\n",
      "Epoch 13/1000\n",
      "11/11 [==============================] - 4s 328ms/step - loss: 0.9731 - mae_in_months: 14.6836 - val_loss: 0.9826 - val_mae_in_months: 14.2135 - lr: 0.0010\n",
      "Epoch 14/1000\n",
      "11/11 [==============================] - 4s 327ms/step - loss: 1.3733 - mae_in_months: 16.8409 - val_loss: 1.7453 - val_mae_in_months: 19.7080 - lr: 0.0010\n",
      "Epoch 15/1000\n",
      "11/11 [==============================] - 10s 930ms/step - loss: 0.9564 - mae_in_months: 14.6573 - val_loss: 0.8396 - val_mae_in_months: 13.1951 - lr: 0.0010\n",
      "Epoch 16/1000\n",
      "11/11 [==============================] - 10s 889ms/step - loss: 0.6979 - mae_in_months: 12.2047 - val_loss: 0.5326 - val_mae_in_months: 10.5394 - lr: 0.0010\n",
      "Epoch 17/1000\n",
      "11/11 [==============================] - 4s 327ms/step - loss: 0.4136 - mae_in_months: 9.3525 - val_loss: 0.5336 - val_mae_in_months: 10.8070 - lr: 0.0010\n",
      "Epoch 18/1000\n",
      "11/11 [==============================] - 10s 891ms/step - loss: 0.4076 - mae_in_months: 9.2779 - val_loss: 0.4802 - val_mae_in_months: 10.1037 - lr: 0.0010\n",
      "Epoch 19/1000\n",
      "11/11 [==============================] - 10s 933ms/step - loss: 0.3159 - mae_in_months: 8.0849 - val_loss: 0.3834 - val_mae_in_months: 9.0570 - lr: 0.0010\n",
      "Epoch 20/1000\n",
      "11/11 [==============================] - 11s 978ms/step - loss: 0.2596 - mae_in_months: 7.2678 - val_loss: 0.3607 - val_mae_in_months: 8.7460 - lr: 0.0010\n",
      "Epoch 21/1000\n",
      "11/11 [==============================] - 7s 619ms/step - loss: 0.2664 - mae_in_months: 7.2103 - val_loss: 0.3265 - val_mae_in_months: 8.3075 - lr: 0.0010\n",
      "Epoch 22/1000\n",
      "11/11 [==============================] - 10s 935ms/step - loss: 0.2760 - mae_in_months: 7.3409 - val_loss: 0.2779 - val_mae_in_months: 7.5646 - lr: 0.0010\n",
      "Epoch 23/1000\n",
      "11/11 [==============================] - 10s 921ms/step - loss: 0.2249 - mae_in_months: 6.5855 - val_loss: 0.2286 - val_mae_in_months: 6.6611 - lr: 0.0010\n",
      "Epoch 24/1000\n",
      "11/11 [==============================] - 10s 923ms/step - loss: 0.2146 - mae_in_months: 6.4280 - val_loss: 0.2282 - val_mae_in_months: 6.5330 - lr: 0.0010\n",
      "Epoch 25/1000\n",
      "11/11 [==============================] - 4s 327ms/step - loss: 0.1989 - mae_in_months: 6.0451 - val_loss: 0.3485 - val_mae_in_months: 8.7472 - lr: 0.0010\n",
      "Epoch 26/1000\n",
      "11/11 [==============================] - 4s 327ms/step - loss: 0.2623 - mae_in_months: 7.2852 - val_loss: 0.5818 - val_mae_in_months: 12.0886 - lr: 0.0010\n",
      "Epoch 27/1000\n",
      "11/11 [==============================] - 10s 917ms/step - loss: 0.2177 - mae_in_months: 6.4119 - val_loss: 0.2029 - val_mae_in_months: 6.1637 - lr: 0.0010\n",
      "Epoch 28/1000\n",
      "11/11 [==============================] - 4s 328ms/step - loss: 0.1948 - mae_in_months: 6.1167 - val_loss: 0.2411 - val_mae_in_months: 6.8529 - lr: 0.0010\n",
      "Epoch 29/1000\n",
      "11/11 [==============================] - 7s 619ms/step - loss: 0.2371 - mae_in_months: 6.6868 - val_loss: 0.1830 - val_mae_in_months: 5.8600 - lr: 0.0010\n",
      "Epoch 30/1000\n",
      "11/11 [==============================] - 4s 326ms/step - loss: 0.1578 - mae_in_months: 5.3802 - val_loss: 0.1838 - val_mae_in_months: 6.1896 - lr: 0.0010\n",
      "Epoch 31/1000\n",
      "11/11 [==============================] - 4s 327ms/step - loss: 0.2152 - mae_in_months: 6.2858 - val_loss: 0.1866 - val_mae_in_months: 6.1022 - lr: 0.0010\n",
      "Epoch 32/1000\n",
      "11/11 [==============================] - 10s 954ms/step - loss: 0.1925 - mae_in_months: 6.0319 - val_loss: 0.1735 - val_mae_in_months: 5.8069 - lr: 0.0010\n",
      "Epoch 33/1000\n",
      "11/11 [==============================] - 4s 326ms/step - loss: 0.6877 - mae_in_months: 9.6593 - val_loss: 1.0043 - val_mae_in_months: 14.2847 - lr: 0.0010\n",
      "Epoch 34/1000\n",
      "11/11 [==============================] - 4s 326ms/step - loss: 0.8050 - mae_in_months: 13.3134 - val_loss: 0.6778 - val_mae_in_months: 12.0635 - lr: 0.0010\n",
      "Epoch 35/1000\n",
      "11/11 [==============================] - 4s 325ms/step - loss: 0.4369 - mae_in_months: 9.6151 - val_loss: 0.4041 - val_mae_in_months: 9.2872 - lr: 0.0010\n",
      "Epoch 36/1000\n",
      "11/11 [==============================] - 4s 325ms/step - loss: 0.2630 - mae_in_months: 7.2677 - val_loss: 0.2120 - val_mae_in_months: 6.3327 - lr: 0.0010\n",
      "Epoch 37/1000\n",
      "11/11 [==============================] - 4s 326ms/step - loss: 0.2157 - mae_in_months: 6.3816 - val_loss: 0.3332 - val_mae_in_months: 8.8367 - lr: 0.0010\n",
      "Epoch 38/1000\n",
      "11/11 [==============================] - 4s 328ms/step - loss: 0.1950 - mae_in_months: 5.9406 - val_loss: 0.1910 - val_mae_in_months: 5.7996 - lr: 0.0010\n",
      "Epoch 39/1000\n",
      "11/11 [==============================] - 7s 626ms/step - loss: 0.1856 - mae_in_months: 5.9417 - val_loss: 0.1733 - val_mae_in_months: 5.9551 - lr: 0.0010\n",
      "Epoch 40/1000\n",
      "11/11 [==============================] - 4s 327ms/step - loss: 0.1995 - mae_in_months: 6.1305 - val_loss: 0.2026 - val_mae_in_months: 6.3560 - lr: 0.0010\n",
      "Epoch 41/1000\n",
      "11/11 [==============================] - 7s 616ms/step - loss: 0.1976 - mae_in_months: 5.9303 - val_loss: 0.1700 - val_mae_in_months: 5.6355 - lr: 0.0010\n",
      "Epoch 42/1000\n",
      "11/11 [==============================] - 4s 327ms/step - loss: 0.1563 - mae_in_months: 5.2317 - val_loss: 0.3057 - val_mae_in_months: 8.3591 - lr: 0.0010\n",
      "Epoch 43/1000\n",
      "11/11 [==============================] - 4s 327ms/step - loss: 0.2273 - mae_in_months: 6.6021 - val_loss: 0.1713 - val_mae_in_months: 5.6405 - lr: 0.0010\n",
      "Epoch 44/1000\n",
      "11/11 [==============================] - 4s 327ms/step - loss: 0.1502 - mae_in_months: 5.2015 - val_loss: 0.1743 - val_mae_in_months: 5.9883 - lr: 0.0010\n",
      "Epoch 45/1000\n",
      "11/11 [==============================] - 10s 926ms/step - loss: 0.1414 - mae_in_months: 4.9476 - val_loss: 0.1698 - val_mae_in_months: 6.1089 - lr: 0.0010\n",
      "Epoch 46/1000\n",
      "11/11 [==============================] - 4s 327ms/step - loss: 0.1779 - mae_in_months: 5.7748 - val_loss: 0.1796 - val_mae_in_months: 5.9661 - lr: 0.0010\n",
      "Epoch 47/1000\n",
      "11/11 [==============================] - 4s 327ms/step - loss: 0.1608 - mae_in_months: 5.4783 - val_loss: 0.1760 - val_mae_in_months: 6.0421 - lr: 0.0010\n",
      "Epoch 48/1000\n",
      "11/11 [==============================] - 4s 326ms/step - loss: 0.1516 - mae_in_months: 5.2808 - val_loss: 0.1748 - val_mae_in_months: 5.9102 - lr: 0.0010\n",
      "Epoch 49/1000\n",
      "11/11 [==============================] - 10s 902ms/step - loss: 0.1735 - mae_in_months: 5.7355 - val_loss: 0.1538 - val_mae_in_months: 5.4145 - lr: 0.0010\n",
      "Epoch 50/1000\n",
      "11/11 [==============================] - 4s 328ms/step - loss: 0.1578 - mae_in_months: 5.4113 - val_loss: 0.1660 - val_mae_in_months: 5.9223 - lr: 0.0010\n",
      "Epoch 51/1000\n",
      "11/11 [==============================] - 4s 327ms/step - loss: 0.1265 - mae_in_months: 4.6839 - val_loss: 0.1839 - val_mae_in_months: 6.1179 - lr: 0.0010\n",
      "Epoch 52/1000\n",
      "11/11 [==============================] - 10s 929ms/step - loss: 0.1210 - mae_in_months: 4.5304 - val_loss: 0.1431 - val_mae_in_months: 5.3389 - lr: 0.0010\n",
      "Epoch 53/1000\n",
      "11/11 [==============================] - 10s 927ms/step - loss: 0.1209 - mae_in_months: 4.6024 - val_loss: 0.1384 - val_mae_in_months: 5.3402 - lr: 0.0010\n",
      "Epoch 54/1000\n",
      "11/11 [==============================] - 4s 326ms/step - loss: 0.1502 - mae_in_months: 5.2680 - val_loss: 0.2217 - val_mae_in_months: 6.6973 - lr: 0.0010\n",
      "Epoch 55/1000\n",
      "11/11 [==============================] - 4s 327ms/step - loss: 0.1203 - mae_in_months: 4.5951 - val_loss: 0.1418 - val_mae_in_months: 5.4238 - lr: 0.0010\n",
      "Epoch 56/1000\n",
      "11/11 [==============================] - 4s 326ms/step - loss: 0.1175 - mae_in_months: 4.5439 - val_loss: 0.2564 - val_mae_in_months: 7.0394 - lr: 0.0010\n",
      "Epoch 57/1000\n",
      "11/11 [==============================] - 4s 325ms/step - loss: 0.1617 - mae_in_months: 5.4103 - val_loss: 0.1529 - val_mae_in_months: 5.4435 - lr: 0.0010\n",
      "Epoch 58/1000\n",
      "11/11 [==============================] - 4s 326ms/step - loss: 0.1189 - mae_in_months: 4.5860 - val_loss: 0.1405 - val_mae_in_months: 5.3173 - lr: 0.0010\n",
      "Epoch 59/1000\n",
      "11/11 [==============================] - 4s 326ms/step - loss: 0.1267 - mae_in_months: 4.6419 - val_loss: 0.3846 - val_mae_in_months: 9.1273 - lr: 0.0010\n",
      "Epoch 60/1000\n",
      "11/11 [==============================] - 4s 326ms/step - loss: 0.1389 - mae_in_months: 4.8885 - val_loss: 0.1412 - val_mae_in_months: 5.3325 - lr: 0.0010\n",
      "Epoch 61/1000\n",
      "11/11 [==============================] - 10s 950ms/step - loss: 0.1039 - mae_in_months: 4.2252 - val_loss: 0.1327 - val_mae_in_months: 5.2397 - lr: 0.0010\n",
      "Epoch 62/1000\n",
      "11/11 [==============================] - 11s 982ms/step - loss: 0.1071 - mae_in_months: 4.2749 - val_loss: 0.1324 - val_mae_in_months: 5.2481 - lr: 0.0010\n",
      "Epoch 63/1000\n",
      "11/11 [==============================] - 4s 327ms/step - loss: 0.1170 - mae_in_months: 4.4599 - val_loss: 0.1468 - val_mae_in_months: 5.4296 - lr: 0.0010\n",
      "Epoch 64/1000\n",
      "11/11 [==============================] - 4s 327ms/step - loss: 0.0926 - mae_in_months: 4.0319 - val_loss: 0.1450 - val_mae_in_months: 5.4968 - lr: 0.0010\n",
      "Epoch 65/1000\n",
      "11/11 [==============================] - 10s 895ms/step - loss: 0.0944 - mae_in_months: 4.0369 - val_loss: 0.1292 - val_mae_in_months: 5.1980 - lr: 0.0010\n",
      "Epoch 66/1000\n",
      "11/11 [==============================] - 4s 326ms/step - loss: 0.0990 - mae_in_months: 4.2143 - val_loss: 0.1477 - val_mae_in_months: 5.5353 - lr: 0.0010\n",
      "Epoch 67/1000\n",
      "11/11 [==============================] - 4s 327ms/step - loss: 0.0988 - mae_in_months: 4.1208 - val_loss: 0.1336 - val_mae_in_months: 5.2574 - lr: 0.0010\n",
      "Epoch 68/1000\n",
      "11/11 [==============================] - 4s 326ms/step - loss: 0.1033 - mae_in_months: 4.3719 - val_loss: 0.1699 - val_mae_in_months: 5.8656 - lr: 0.0010\n",
      "Epoch 69/1000\n",
      "11/11 [==============================] - 4s 327ms/step - loss: 0.1367 - mae_in_months: 5.1978 - val_loss: 0.1759 - val_mae_in_months: 5.8783 - lr: 0.0010\n",
      "Epoch 70/1000\n",
      "11/11 [==============================] - 4s 327ms/step - loss: 0.1003 - mae_in_months: 4.3001 - val_loss: 0.1362 - val_mae_in_months: 5.3081 - lr: 0.0010\n",
      "Epoch 71/1000\n",
      "11/11 [==============================] - 4s 326ms/step - loss: 0.0839 - mae_in_months: 3.7358 - val_loss: 0.1725 - val_mae_in_months: 6.1912 - lr: 0.0010\n",
      "Epoch 72/1000\n",
      "11/11 [==============================] - 10s 922ms/step - loss: 0.0944 - mae_in_months: 4.1835 - val_loss: 0.1274 - val_mae_in_months: 5.2332 - lr: 0.0010\n",
      "Epoch 73/1000\n",
      "11/11 [==============================] - 4s 326ms/step - loss: 0.1046 - mae_in_months: 4.5311 - val_loss: 0.1867 - val_mae_in_months: 6.0461 - lr: 0.0010\n",
      "Epoch 74/1000\n",
      "11/11 [==============================] - 4s 327ms/step - loss: 0.0955 - mae_in_months: 4.1455 - val_loss: 0.1506 - val_mae_in_months: 5.7228 - lr: 0.0010\n",
      "Epoch 75/1000\n",
      "11/11 [==============================] - 4s 328ms/step - loss: 0.0928 - mae_in_months: 4.2089 - val_loss: 0.1417 - val_mae_in_months: 5.3448 - lr: 0.0010\n",
      "Epoch 76/1000\n",
      "11/11 [==============================] - 4s 344ms/step - loss: 0.0780 - mae_in_months: 3.7812 - val_loss: 0.1396 - val_mae_in_months: 5.3836 - lr: 0.0010\n",
      "Epoch 77/1000\n",
      "11/11 [==============================] - 4s 326ms/step - loss: 0.0938 - mae_in_months: 4.1558 - val_loss: 0.1447 - val_mae_in_months: 5.4878 - lr: 0.0010\n",
      "Epoch 78/1000\n",
      "11/11 [==============================] - 4s 326ms/step - loss: 0.0857 - mae_in_months: 3.9750 - val_loss: 0.1289 - val_mae_in_months: 5.2629 - lr: 0.0010\n",
      "Epoch 79/1000\n",
      "11/11 [==============================] - 10s 883ms/step - loss: 0.0799 - mae_in_months: 3.8092 - val_loss: 0.1265 - val_mae_in_months: 5.2219 - lr: 0.0010\n",
      "Epoch 80/1000\n",
      "11/11 [==============================] - 4s 326ms/step - loss: 0.0702 - mae_in_months: 3.5700 - val_loss: 0.1276 - val_mae_in_months: 5.1689 - lr: 0.0010\n",
      "Epoch 81/1000\n",
      "11/11 [==============================] - 4s 325ms/step - loss: 0.0902 - mae_in_months: 4.1337 - val_loss: 0.1505 - val_mae_in_months: 5.5689 - lr: 0.0010\n",
      "Epoch 82/1000\n",
      "11/11 [==============================] - 4s 325ms/step - loss: 0.0673 - mae_in_months: 3.5366 - val_loss: 0.1299 - val_mae_in_months: 5.2644 - lr: 0.0010\n",
      "Epoch 83/1000\n",
      "11/11 [==============================] - 4s 327ms/step - loss: 0.1289 - mae_in_months: 4.9489 - val_loss: 0.1808 - val_mae_in_months: 6.0435 - lr: 0.0010\n",
      "Epoch 84/1000\n",
      "11/11 [==============================] - 4s 328ms/step - loss: 0.0766 - mae_in_months: 3.7883 - val_loss: 0.1417 - val_mae_in_months: 5.4376 - lr: 0.0010\n",
      "Epoch 85/1000\n",
      "11/11 [==============================] - 10s 920ms/step - loss: 0.0616 - mae_in_months: 3.3290 - val_loss: 0.1255 - val_mae_in_months: 5.2143 - lr: 0.0010\n",
      "Epoch 86/1000\n",
      "11/11 [==============================] - 4s 325ms/step - loss: 0.0712 - mae_in_months: 3.6165 - val_loss: 0.1426 - val_mae_in_months: 5.4885 - lr: 0.0010\n",
      "Epoch 87/1000\n",
      "11/11 [==============================] - 4s 325ms/step - loss: 0.0677 - mae_in_months: 3.5542 - val_loss: 0.1347 - val_mae_in_months: 5.4255 - lr: 0.0010\n",
      "Epoch 88/1000\n",
      "11/11 [==============================] - 4s 326ms/step - loss: 0.0726 - mae_in_months: 3.7479 - val_loss: 0.1367 - val_mae_in_months: 5.4822 - lr: 0.0010\n",
      "Epoch 89/1000\n",
      "11/11 [==============================] - 4s 326ms/step - loss: 0.0540 - mae_in_months: 3.1459 - val_loss: 0.1441 - val_mae_in_months: 5.6596 - lr: 0.0010\n",
      "Epoch 90/1000\n",
      "11/11 [==============================] - 4s 326ms/step - loss: 0.0545 - mae_in_months: 3.2031 - val_loss: 0.1481 - val_mae_in_months: 5.6425 - lr: 0.0010\n",
      "Epoch 91/1000\n",
      "11/11 [==============================] - 4s 328ms/step - loss: 0.0800 - mae_in_months: 3.9840 - val_loss: 0.1292 - val_mae_in_months: 5.3344 - lr: 0.0010\n",
      "Epoch 92/1000\n",
      "11/11 [==============================] - 4s 328ms/step - loss: 0.0502 - mae_in_months: 2.9802 - val_loss: 0.1754 - val_mae_in_months: 5.9647 - lr: 0.0010\n",
      "Epoch 93/1000\n",
      "11/11 [==============================] - 4s 327ms/step - loss: 0.0617 - mae_in_months: 3.4786 - val_loss: 0.1492 - val_mae_in_months: 5.6523 - lr: 0.0010\n",
      "Epoch 94/1000\n",
      "11/11 [==============================] - 4s 327ms/step - loss: 0.0572 - mae_in_months: 3.3471 - val_loss: 0.1271 - val_mae_in_months: 5.3112 - lr: 0.0010\n",
      "Epoch 95/1000\n",
      "11/11 [==============================] - 4s 328ms/step - loss: 0.0606 - mae_in_months: 3.4058 - val_loss: 0.1277 - val_mae_in_months: 5.2764 - lr: 0.0010\n",
      "Epoch 96/1000\n",
      "11/11 [==============================] - 4s 327ms/step - loss: 0.0468 - mae_in_months: 2.9369 - val_loss: 0.1261 - val_mae_in_months: 5.3276 - lr: 0.0010\n",
      "Epoch 97/1000\n",
      "11/11 [==============================] - 4s 327ms/step - loss: 0.0605 - mae_in_months: 3.4419 - val_loss: 0.1434 - val_mae_in_months: 5.4027 - lr: 0.0010\n"
     ]
    },
    {
     "name": "stdout",
     "output_type": "stream",
     "text": [
      "Epoch 98/1000\n",
      "11/11 [==============================] - 4s 327ms/step - loss: 0.0463 - mae_in_months: 2.9719 - val_loss: 0.1315 - val_mae_in_months: 5.2999 - lr: 0.0010\n",
      "Epoch 99/1000\n",
      "11/11 [==============================] - 4s 328ms/step - loss: 0.0587 - mae_in_months: 3.2666 - val_loss: 0.1470 - val_mae_in_months: 5.6114 - lr: 0.0010\n",
      "Epoch 100/1000\n",
      "11/11 [==============================] - 4s 327ms/step - loss: 0.1565 - mae_in_months: 5.3157 - val_loss: 0.1780 - val_mae_in_months: 5.6932 - lr: 0.0010\n",
      "Epoch 101/1000\n",
      "11/11 [==============================] - 4s 328ms/step - loss: 0.0654 - mae_in_months: 3.5069 - val_loss: 0.1396 - val_mae_in_months: 5.4592 - lr: 0.0010\n",
      "Epoch 102/1000\n",
      "11/11 [==============================] - 4s 327ms/step - loss: 0.0453 - mae_in_months: 2.8430 - val_loss: 0.1308 - val_mae_in_months: 5.3398 - lr: 0.0010\n",
      "Epoch 103/1000\n",
      "11/11 [==============================] - 4s 327ms/step - loss: 0.0450 - mae_in_months: 2.9204 - val_loss: 0.1351 - val_mae_in_months: 5.3734 - lr: 0.0010\n",
      "Epoch 104/1000\n",
      "11/11 [==============================] - 4s 326ms/step - loss: 0.0407 - mae_in_months: 2.7744 - val_loss: 0.1353 - val_mae_in_months: 5.5088 - lr: 0.0010\n",
      "Epoch 105/1000\n",
      "11/11 [==============================] - 4s 327ms/step - loss: 9.6854 - mae_in_months: 28.5069 - val_loss: 1.1782 - val_mae_in_months: 15.6456 - lr: 0.0010\n",
      "Epoch 106/1000\n",
      "11/11 [==============================] - 4s 326ms/step - loss: 1.0704 - mae_in_months: 15.5201 - val_loss: 0.9100 - val_mae_in_months: 13.6220 - lr: 0.0010\n",
      "Epoch 107/1000\n",
      "11/11 [==============================] - 4s 327ms/step - loss: 0.8972 - mae_in_months: 13.9477 - val_loss: 0.8875 - val_mae_in_months: 13.4766 - lr: 0.0010\n",
      "Epoch 108/1000\n",
      "11/11 [==============================] - 4s 327ms/step - loss: 0.5651 - mae_in_months: 11.1556 - val_loss: 0.2913 - val_mae_in_months: 7.4829 - lr: 0.0010\n",
      "Epoch 109/1000\n",
      "11/11 [==============================] - 4s 327ms/step - loss: 0.3484 - mae_in_months: 8.2599 - val_loss: 0.2357 - val_mae_in_months: 6.7087 - lr: 0.0010\n",
      "Epoch 110/1000\n",
      "11/11 [==============================] - 4s 327ms/step - loss: 0.2181 - mae_in_months: 6.3405 - val_loss: 0.2271 - val_mae_in_months: 6.6234 - lr: 0.0010\n",
      "Epoch 111/1000\n",
      "11/11 [==============================] - 4s 327ms/step - loss: 0.1706 - mae_in_months: 5.4698 - val_loss: 0.1946 - val_mae_in_months: 5.8645 - lr: 0.0010\n",
      "Epoch 112/1000\n",
      "11/11 [==============================] - 4s 327ms/step - loss: 0.2312 - mae_in_months: 6.5876 - val_loss: 0.2036 - val_mae_in_months: 6.0458 - lr: 0.0010\n",
      "Epoch 113/1000\n",
      "11/11 [==============================] - 4s 327ms/step - loss: 0.1561 - mae_in_months: 5.2272 - val_loss: 0.1787 - val_mae_in_months: 5.5990 - lr: 0.0010\n",
      "Epoch 114/1000\n",
      "11/11 [==============================] - 4s 326ms/step - loss: 0.1672 - mae_in_months: 5.4061 - val_loss: 0.1785 - val_mae_in_months: 5.8015 - lr: 0.0010\n",
      "Epoch 115/1000\n",
      "11/11 [==============================] - 4s 327ms/step - loss: 0.1420 - mae_in_months: 4.8738 - val_loss: 0.1785 - val_mae_in_months: 5.6010 - lr: 0.0010\n",
      "Epoch 116/1000\n",
      "11/11 [==============================] - 4s 326ms/step - loss: 0.1791 - mae_in_months: 5.8478 - val_loss: 0.1675 - val_mae_in_months: 5.4829 - lr: 0.0010\n",
      "Epoch 117/1000\n",
      "11/11 [==============================] - 4s 326ms/step - loss: 0.1411 - mae_in_months: 4.8214 - val_loss: 0.1628 - val_mae_in_months: 5.4706 - lr: 0.0010\n",
      "Epoch 118/1000\n",
      "11/11 [==============================] - 4s 326ms/step - loss: 0.1291 - mae_in_months: 4.5732 - val_loss: 0.1563 - val_mae_in_months: 5.3364 - lr: 0.0010\n",
      "Epoch 119/1000\n",
      "11/11 [==============================] - 4s 325ms/step - loss: 0.1664 - mae_in_months: 5.5689 - val_loss: 0.1636 - val_mae_in_months: 5.1856 - lr: 0.0010\n",
      "Epoch 120/1000\n",
      "11/11 [==============================] - 4s 325ms/step - loss: 0.1430 - mae_in_months: 4.9964 - val_loss: 0.2555 - val_mae_in_months: 7.1679 - lr: 0.0010\n",
      "Epoch 121/1000\n",
      "11/11 [==============================] - 4s 327ms/step - loss: 0.1185 - mae_in_months: 4.4103 - val_loss: 0.1499 - val_mae_in_months: 5.1767 - lr: 0.0010\n",
      "Epoch 122/1000\n",
      "11/11 [==============================] - 4s 329ms/step - loss: 0.1451 - mae_in_months: 5.1443 - val_loss: 0.1504 - val_mae_in_months: 5.1344 - lr: 0.0010\n",
      "Epoch 123/1000\n",
      "11/11 [==============================] - 4s 327ms/step - loss: 0.1236 - mae_in_months: 4.5097 - val_loss: 0.1631 - val_mae_in_months: 5.6345 - lr: 0.0010\n",
      "Epoch 124/1000\n",
      "11/11 [==============================] - 4s 327ms/step - loss: 0.1360 - mae_in_months: 4.7389 - val_loss: 0.2242 - val_mae_in_months: 6.9193 - lr: 0.0010\n",
      "Epoch 125/1000\n",
      "11/11 [==============================] - 4s 326ms/step - loss: 0.1265 - mae_in_months: 4.6242 - val_loss: 0.1484 - val_mae_in_months: 5.0706 - lr: 0.0010\n",
      "Epoch 126/1000\n",
      "11/11 [==============================] - 4s 326ms/step - loss: 0.1270 - mae_in_months: 4.6271 - val_loss: 0.2654 - val_mae_in_months: 7.3044 - lr: 0.0010\n",
      "Epoch 127/1000\n",
      "11/11 [==============================] - 4s 328ms/step - loss: 0.1551 - mae_in_months: 5.3489 - val_loss: 0.1858 - val_mae_in_months: 5.6697 - lr: 0.0010\n",
      "Epoch 128/1000\n",
      "11/11 [==============================] - 4s 326ms/step - loss: 0.1256 - mae_in_months: 4.6427 - val_loss: 0.1676 - val_mae_in_months: 5.3192 - lr: 0.0010\n",
      "Epoch 129/1000\n",
      "11/11 [==============================] - 4s 326ms/step - loss: 0.0977 - mae_in_months: 3.8983 - val_loss: 0.1746 - val_mae_in_months: 5.9476 - lr: 0.0010\n",
      "Epoch 130/1000\n",
      "11/11 [==============================] - 4s 327ms/step - loss: 0.1017 - mae_in_months: 3.9718 - val_loss: 0.1429 - val_mae_in_months: 5.1950 - lr: 0.0010\n",
      "Epoch 131/1000\n",
      "11/11 [==============================] - 4s 326ms/step - loss: 0.1146 - mae_in_months: 4.4159 - val_loss: 0.1736 - val_mae_in_months: 5.5650 - lr: 0.0010\n",
      "Epoch 132/1000\n",
      "11/11 [==============================] - 4s 327ms/step - loss: 0.0905 - mae_in_months: 3.7857 - val_loss: 0.1551 - val_mae_in_months: 5.5239 - lr: 0.0010\n",
      "Epoch 133/1000\n",
      "11/11 [==============================] - 4s 328ms/step - loss: 0.1002 - mae_in_months: 4.1584 - val_loss: 0.1367 - val_mae_in_months: 5.0648 - lr: 0.0010\n",
      "Epoch 134/1000\n",
      "11/11 [==============================] - 4s 327ms/step - loss: 0.1065 - mae_in_months: 4.3230 - val_loss: 0.1392 - val_mae_in_months: 4.9704 - lr: 0.0010\n",
      "Epoch 135/1000\n",
      "11/11 [==============================] - 4s 327ms/step - loss: 0.1062 - mae_in_months: 4.3051 - val_loss: 0.1383 - val_mae_in_months: 5.1259 - lr: 0.0010\n"
     ]
    },
    {
     "data": {
      "image/png": "[encoded data removed]",
      "text/plain": [
       "<Figure size 1440x720 with 1 Axes>"
      ]
     },
     "metadata": {},
     "output_type": "display_data"
    }
   ],
   "source": [
    "# 모델 fit\n",
    "\n",
    "epochs = 1000\n",
    "#early stopping\n",
    "early_stopping = EarlyStopping(monitor='val_loss',\n",
    "                              min_delta=0,\n",
    "                              patience= 50,\n",
    "                              verbose=0, mode='auto')\n",
    "\n",
    "mc = ModelCheckpoint(\"temp/\"+model_weight, monitor='val_loss', mode='min', save_best_only=True)\n",
    "rLR = ReduceLROnPlateau(\n",
    "    monitor='val_loss',  # 검증 손실을 기준으로 callback이 호출됩니다\n",
    "    factor=0.5,          # callback 호출시 학습률을 1/2로 줄입니다\n",
    "    patience=50,         # epoch 10 동안 개선되지 않으면 callback이 호출됩니다\n",
    ")\n",
    "\n",
    "callbacks = [early_stopping,mc,rLR]\n",
    "\n",
    "\n",
    "#fit model\n",
    "history = model.fit(train_X,train_y,\n",
    "                    validation_data = (val_X,val_y),\n",
    "                    epochs = epochs,\n",
    "                    callbacks= callbacks)\n",
    "plot_it(history)\n"
   ]
  },
  {
   "cell_type": "code",
   "execution_count": null,
   "metadata": {},
   "outputs": [],
   "source": []
  },
  {
   "cell_type": "markdown",
   "metadata": {},
   "source": [
    "## 평가 및 저장"
   ]
  },
  {
   "cell_type": "code",
   "execution_count": 11,
   "metadata": {
    "scrolled": true
   },
   "outputs": [],
   "source": [
    "model.load_weights(\"temp/\"+model_weight)"
   ]
  },
  {
   "cell_type": "code",
   "execution_count": 12,
   "metadata": {},
   "outputs": [
    {
     "name": "stdout",
     "output_type": "stream",
     "text": [
      "3/3 [==============================] - 0s 63ms/step - loss: 0.1255 - mae_in_months: 5.2143\n",
      "mae_year : 0.4345216751098633, rmse : 0.010457797596851984,r2_score : 0.8909543990741264\n"
     ]
    }
   ],
   "source": [
    "pred = model.predict(val_X)*ba_std+ba_mean\n",
    "mse, mae = model.evaluate(val_X,val_y)\n",
    "\n",
    "from sklearn.metrics import r2_score\n",
    "r2 = r2_score(val_df.boneage,pred)\n",
    "print(f\"mae_year : {mae/12}, rmse : {mse/12},r2_score : {r2}\" )"
   ]
  },
  {
   "cell_type": "code",
   "execution_count": 13,
   "metadata": {},
   "outputs": [
    {
     "data": {
      "text/plain": [
       "(0.4352059925093634, 0.4345216879683935)"
      ]
     },
     "execution_count": 13,
     "metadata": {},
     "output_type": "execute_result"
    }
   ],
   "source": [
    "from sklearn.metrics import mean_absolute_error\n",
    "v = val_y*ba_std+ba_mean\n",
    "mean_absolute_error(np.round(pred),v)/12,mean_absolute_error(pred,v)/12"
   ]
  },
  {
   "cell_type": "code",
   "execution_count": 16,
   "metadata": {},
   "outputs": [
    {
     "data": {
      "text/html": [
       "<div>\n",
       "<style scoped>\n",
       "    .dataframe tbody tr th:only-of-type {\n",
       "        vertical-align: middle;\n",
       "    }\n",
       "\n",
       "    .dataframe tbody tr th {\n",
       "        vertical-align: top;\n",
       "    }\n",
       "\n",
       "    .dataframe thead th {\n",
       "        text-align: right;\n",
       "    }\n",
       "</style>\n",
       "<table border=\"1\" class=\"dataframe\">\n",
       "  <thead>\n",
       "    <tr style=\"text-align: right;\">\n",
       "      <th></th>\n",
       "      <th>model_name</th>\n",
       "      <th>mae</th>\n",
       "      <th>mse</th>\n",
       "      <th>r2_score</th>\n",
       "      <th>input</th>\n",
       "    </tr>\n",
       "  </thead>\n",
       "  <tbody>\n",
       "    <tr>\n",
       "      <th>0</th>\n",
       "      <td>sample</td>\n",
       "      <td>0.000000</td>\n",
       "      <td>0.000000</td>\n",
       "      <td>1.000000</td>\n",
       "      <td>gender,ROI(img_size*img_size)</td>\n",
       "    </tr>\n",
       "    <tr>\n",
       "      <th>1</th>\n",
       "      <td>djnet</td>\n",
       "      <td>0.439692</td>\n",
       "      <td>0.011235</td>\n",
       "      <td>0.882849</td>\n",
       "      <td>gender,ROI(251*251)</td>\n",
       "    </tr>\n",
       "  </tbody>\n",
       "</table>\n",
       "</div>"
      ],
      "text/plain": [
       "  model_name       mae       mse  r2_score                          input\n",
       "0     sample  0.000000  0.000000  1.000000  gender,ROI(img_size*img_size)\n",
       "1      djnet  0.439692  0.011235  0.882849            gender,ROI(251*251)"
      ]
     },
     "execution_count": 16,
     "metadata": {},
     "output_type": "execute_result"
    }
   ],
   "source": [
    "result_df = pd.read_csv(\"../03_model_result/result.csv\")\n",
    "result_df.loc[len(result_df)]=(model_name,mae/12,mse/12,r2,\"gender,ROI(251*251)\")\n",
    "result_df.to_csv(\"../03_model_result/result.csv\",index=False)\n",
    "result_df"
   ]
  },
  {
   "cell_type": "code",
   "execution_count": 17,
   "metadata": {},
   "outputs": [],
   "source": [
    "pred = model.predict(generator(df,model,2))*ba_std+ba_mean\n",
    "month = np.array(df.boneage)\n",
    "pred_all = pred.reshape(-1)"
   ]
  },
  {
   "cell_type": "code",
   "execution_count": 18,
   "metadata": {
    "scrolled": true
   },
   "outputs": [
    {
     "data": {
      "text/plain": [
       "Text(0,0.5,'Predicted Age (Months)')"
      ]
     },
     "execution_count": 18,
     "metadata": {},
     "output_type": "execute_result"
    },
    {
     "data": {
      "image/png": "[encoded data removed]",
      "text/plain": [
       "<Figure size 432x432 with 1 Axes>"
      ]
     },
     "metadata": {},
     "output_type": "display_data"
    }
   ],
   "source": [
    "fig, ax1 = plt.subplots(1,1, figsize = (6,6))\n",
    "ax1.plot(month, pred_all, 'r.', label = 'predictions')\n",
    "ax1.plot(month, month, 'b-', label = 'actual')\n",
    "ax1.legend()\n",
    "ax1.set_xlabel('Actual Age (Months)')\n",
    "ax1.set_ylabel('Predicted Age (Months)')"
   ]
  },
  {
   "cell_type": "code",
   "execution_count": 88,
   "metadata": {},
   "outputs": [
    {
     "data": {
      "text/plain": [
       "(<tf.Tensor: shape=(), dtype=float64, numpy=0.2496220710506425>,\n",
       " 1.3161097574794152)"
      ]
     },
     "execution_count": 88,
     "metadata": {},
     "output_type": "execute_result"
    }
   ],
   "source": [
    "mean_absolute_error(np.round(pred_all),month)/12,mean_squared_error(pred_all,month)/12"
   ]
  },
  {
   "cell_type": "code",
   "execution_count": null,
   "metadata": {},
   "outputs": [],
   "source": []
  }
 ],
 "metadata": {
  "kernelspec": {
   "display_name": "Python 3",
   "language": "python",
   "name": "python3"
  },
  "language_info": {
   "codemirror_mode": {
    "name": "ipython",
    "version": 3
   },
   "file_extension": ".py",
   "mimetype": "text/x-python",
   "name": "python",
   "nbconvert_exporter": "python",
   "pygments_lexer": "ipython3",
   "version": "3.6.8"
  },
  "toc": {
   "base_numbering": 1,
   "nav_menu": {},
   "number_sections": true,
   "sideBar": true,
   "skip_h1_title": false,
   "title_cell": "Table of Contents",
   "title_sidebar": "Contents",
   "toc_cell": false,
   "toc_position": {},
   "toc_section_display": true,
   "toc_window_display": false
  },
  "varInspector": {
   "cols": {
    "lenName": 16,
    "lenType": 16,
    "lenVar": 40
   },
   "kernels_config": {
    "python": {
     "delete_cmd_postfix": "",
     "delete_cmd_prefix": "del ",
     "library": "var_list.py",
     "varRefreshCmd": "print(var_dic_list())"
    },
    "r": {
     "delete_cmd_postfix": ") ",
     "delete_cmd_prefix": "rm(",
     "library": "var_list.r",
     "varRefreshCmd": "cat(var_dic_list()) "
    }
   },
   "types_to_exclude": [
    "module",
    "function",
    "builtin_function_or_method",
    "instance",
    "_Feature"
   ],
   "window_display": false
  }
 },
 "nbformat": 4,
 "nbformat_minor": 2
}
