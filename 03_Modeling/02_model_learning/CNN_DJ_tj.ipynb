{
 "cells": [
  {
   "cell_type": "markdown",
   "metadata": {},
   "source": [
    "# 패키지"
   ]
  },
  {
   "cell_type": "code",
   "execution_count": 1,
   "metadata": {},
   "outputs": [],
   "source": [
    "import cv2\n",
    "import pandas as pd\n",
    "import numpy as np\n",
    "import matplotlib.pyplot as plt\n",
    "import tensorflow as tf\n",
    "import os\n",
    "from tensorflow.keras.models import *\n",
    "from tensorflow.keras.layers import *\n",
    "from tensorflow.keras.optimizers import *\n",
    "from tensorflow.keras.callbacks import *\n",
    "\n",
    "\n",
    "%matplotlib inline\n",
    "\n",
    "# plt.style.use('dark_background')\n"
   ]
  },
  {
   "cell_type": "markdown",
   "metadata": {},
   "source": [
    "## 함수모음\n",
    "- generator : input과 oupt을 만들어주는 함수\n",
    "- plot_it : 학습후 모델 그래프를 만들고 저장해주는 함수\n",
    "- mae_in_month : 정규화된 값을 학습시키기 때문에 개월로 변경한 mae계산해주는 함수"
   ]
  },
  {
   "cell_type": "code",
   "execution_count": 2,
   "metadata": {},
   "outputs": [],
   "source": [
    "def generator(df,model,n):\n",
    "    \n",
    "    age = np.array(df.BA_z)\n",
    "    img_size = model.input[1].shape[1]\n",
    "    \n",
    "    img_in = []   \n",
    "    for file_path in df.roi_filename:\n",
    "        img = cv2.imread(path+'/'+file_path)\n",
    "        small = cv2.resize(img, (img_size,img_size),cv2.INTER_AREA)\n",
    "        img_in.append(small)\n",
    "    img_in = np.array(img_in)\n",
    "        \n",
    "    if n==1:\n",
    "        return img_in,age\n",
    "    \n",
    "    gender_in = np.array(df.gender)\n",
    "    \n",
    "    if n==2:\n",
    "        return [gender_in,img_in],age\n",
    "#     bimg_path = \n",
    "    bimg_size = model.input[0].shape[1]\n",
    "    bimg_in = []\n",
    "    for file_path in df.filename:\n",
    "        img = cv2.imread(bimg_path+'/'+file_path)\n",
    "        small = cv2.resize(img, (bimg_size,bimg_size),cv2.INTER_AREA)\n",
    "        bimg_in.append(small)\n",
    "    bimg_in = np.array(bimg_in)\n",
    "    \n",
    "    if n==3:\n",
    "        return [bimg_in,img_in,gender_in],age\n",
    "    \n",
    "# process시각화 및 손실함수\n",
    "\n",
    "def plot_it(history):\n",
    "    '''function to plot training and validation error'''\n",
    "    fig, ax = plt.subplots( figsize=(20,10))\n",
    "    ax.plot(history.history['mae_in_months'])\n",
    "    ax.plot(history.history['val_mae_in_months'])\n",
    "    plt.title('Model Error')\n",
    "    plt.ylabel('error')\n",
    "    plt.xlabel('Epoch')\n",
    "    plt.legend(['Train', 'Val'], loc='upper right')\n",
    "    ax.grid(color='black')\n",
    "#     plt.show()\n",
    "    fig = plt.gcf()\n",
    "    fig.savefig(\"../04_model_visualization/\"+model_name+\".jpg\")\n",
    "#     plt.close(fig)\n",
    "\n",
    "    \n",
    "from tensorflow.keras.metrics import mean_absolute_error\n",
    "\n",
    "def mae_in_months(x_p, y_p):\n",
    "    '''function to return mae in months'''\n",
    "    return mean_absolute_error((ba_std*x_p + ba_mean), (ba_std*y_p + ba_mean)) "
   ]
  },
  {
   "cell_type": "markdown",
   "metadata": {},
   "source": [
    "## 데이터 파편화 줄이기 gpu 할당"
   ]
  },
  {
   "cell_type": "code",
   "execution_count": 3,
   "metadata": {},
   "outputs": [
    {
     "name": "stdout",
     "output_type": "stream",
     "text": [
      "Thu Aug 20 11:19:40 2020       \n",
      "+-----------------------------------------------------------------------------+\n",
      "| NVIDIA-SMI 418.67       Driver Version: 418.67       CUDA Version: 10.1     |\n",
      "|-------------------------------+----------------------+----------------------+\n",
      "| GPU  Name        Persistence-M| Bus-Id        Disp.A | Volatile Uncorr. ECC |\n",
      "| Fan  Temp  Perf  Pwr:Usage/Cap|         Memory-Usage | GPU-Util  Compute M. |\n",
      "|===============================+======================+======================|\n",
      "|   0  Tesla V100-SXM2...  On   | 00000000:00:05.0 Off |                  Off |\n",
      "| N/A   35C    P0    54W / 300W |   5521MiB / 32480MiB |      3%      Default |\n",
      "+-------------------------------+----------------------+----------------------+\n",
      "|   1  Tesla V100-SXM2...  On   | 00000000:00:06.0 Off |                  Off |\n",
      "| N/A   36C    P0    52W / 300W |   5577MiB / 32480MiB |      0%      Default |\n",
      "+-------------------------------+----------------------+----------------------+\n",
      "                                                                               \n",
      "+-----------------------------------------------------------------------------+\n",
      "| Processes:                                                       GPU Memory |\n",
      "|  GPU       PID   Type   Process name                             Usage      |\n",
      "|=============================================================================|\n",
      "|    0     58313      C   ...naconda3/envs/tensorflow_p36/bin/python   561MiB |\n",
      "|    0     86767      C   /home/centos/anaconda3/bin/python            307MiB |\n",
      "|    0    103740      C   ...naconda3/envs/tensorflow_p36/bin/python  4641MiB |\n",
      "|    1     58313      C   ...naconda3/envs/tensorflow_p36/bin/python   307MiB |\n",
      "|    1     72756      C   ...aconda3/envs/tensorflow2_p36/bin/python  4951MiB |\n",
      "|    1    103740      C   ...naconda3/envs/tensorflow_p36/bin/python   307MiB |\n",
      "+-----------------------------------------------------------------------------+\n",
      "\n"
     ]
    }
   ],
   "source": [
    "from tensorflow.compat.v1 import ConfigProto,InteractiveSession\n",
    "os.environ[\"CUDA_VISIBLE_DEVICES\"] = '0'\n",
    "config = ConfigProto()\n",
    "config.gpu_options.allow_growth = True\n",
    "session = InteractiveSession(config = config)\n",
    "\n",
    "print(os.popen('nvidia-smi').read())"
   ]
  },
  {
   "cell_type": "markdown",
   "metadata": {},
   "source": [
    "## DataFrame 전처리\n",
    "- 여기서 이미지 사이즈 조절\n",
    "- 여기서 model이름 설정\n",
    "- path 조절\n",
    "- train_test_split"
   ]
  },
  {
   "cell_type": "code",
   "execution_count": 4,
   "metadata": {},
   "outputs": [],
   "source": [
    "# df, img 불러오고 model화 시키기 전 전처리과정\n",
    "\n",
    "model_name = \"tjnet\"\n",
    "model_weight = model_name +\"_weight.h5\"\n",
    "\n",
    "path = \"../00_roi_final\"\n",
    "\n",
    "\n",
    "\n",
    "df = pd.read_excel(path+\"/BA_Total.xlsx\")\n",
    "l = len(df)\n",
    "\n",
    "\n",
    "df['boneage'] = df.BA*12\n",
    "ba_mean = df.boneage.mean()\n",
    "ba_std = df.boneage.std()\n",
    "df[\"BA_z\"] = (df.boneage-ba_mean)/ba_std\n",
    "\n",
    "file_name = np.array([\"{0:03d}_05.jpg\".format(i+1) for i in range(l)])\n",
    "df[\"roi_filename\"] = file_name\n",
    "\n",
    "\n",
    "df[\"gender\"] = (df[\"성별\"]+1)%2\n",
    "\n",
    "new_df = df.drop([219,425])\n",
    "new_df = new_df.reset_index(drop=True)"
   ]
  },
  {
   "cell_type": "markdown",
   "metadata": {},
   "source": [
    "## 모델 생성"
   ]
  },
  {
   "cell_type": "code",
   "execution_count": 5,
   "metadata": {},
   "outputs": [],
   "source": [
    "import sys\n",
    "sys.path.insert(0,'/home/centos/X-Age_Ver1/03_Modeling/01_model_module')"
   ]
  },
  {
   "cell_type": "code",
   "execution_count": 6,
   "metadata": {},
   "outputs": [],
   "source": [
    "import CNN_model_module as models\n",
    "\n",
    "model = models.tjnet2()\n",
    "model.save(\"../03_model_result/\"+model_name+\".h5\")\n",
    "\n",
    "model.compile(loss ='mse', optimizer= 'nadam', metrics = [mae_in_months] )"
   ]
  },
  {
   "cell_type": "markdown",
   "metadata": {},
   "source": [
    "## train_val_set 만들기"
   ]
  },
  {
   "cell_type": "code",
   "execution_count": 7,
   "metadata": {},
   "outputs": [],
   "source": [
    "from sklearn.model_selection import train_test_split\n",
    "\n",
    "train_df, val_df = train_test_split(df, test_size = 0.2, random_state = 0)\n",
    "\n",
    "train_X,train_y = generator(train_df,model,2)\n",
    "val_X,val_y = generator(val_df,model,2)"
   ]
  },
  {
   "cell_type": "markdown",
   "metadata": {},
   "source": [
    "## preprocess"
   ]
  },
  {
   "cell_type": "code",
   "execution_count": 8,
   "metadata": {
    "scrolled": false
   },
   "outputs": [],
   "source": [
    "# from tensorflow.keras.applications.vgg19 import preprocess_input as pre\n",
    "# train_X[1] = pre(train_X[1])\n",
    "# val_X[1] = pre(val_X[1])"
   ]
  },
  {
   "cell_type": "markdown",
   "metadata": {},
   "source": [
    "## 초반에 loss 심한거 뺄려고 한번만 먼저 돌리기"
   ]
  },
  {
   "cell_type": "code",
   "execution_count": 9,
   "metadata": {},
   "outputs": [
    {
     "name": "stdout",
     "output_type": "stream",
     "text": [
      "11/11 [==============================] - 4s 401ms/step - loss: 61712040.0000 - mae_in_months: 43036.2969 - val_loss: 1.1731 - val_mae_in_months: 15.6227\n"
     ]
    },
    {
     "data": {
      "text/plain": [
       "<tensorflow.python.keras.callbacks.History at 0x7f31e40aae80>"
      ]
     },
     "execution_count": 9,
     "metadata": {},
     "output_type": "execute_result"
    }
   ],
   "source": [
    "# model.load_weights(\"temp/\"+model_weight)\n",
    "model.fit(train_X,train_y,\n",
    "                 validation_data = (val_X,val_y),\n",
    "                 epochs = 1)"
   ]
  },
  {
   "cell_type": "markdown",
   "metadata": {},
   "source": [
    "## 모델학습"
   ]
  },
  {
   "cell_type": "code",
   "execution_count": 10,
   "metadata": {
    "scrolled": true
   },
   "outputs": [
    {
     "name": "stdout",
     "output_type": "stream",
     "text": [
      "Epoch 1/1000\n",
      "11/11 [==============================] - 11s 987ms/step - loss: 0.9748 - mae_in_months: 14.8242 - val_loss: 1.1493 - val_mae_in_months: 15.3946 - lr: 0.0010\n",
      "Epoch 2/1000\n",
      "11/11 [==============================] - 10s 917ms/step - loss: 0.9256 - mae_in_months: 14.5337 - val_loss: 1.0195 - val_mae_in_months: 14.4880 - lr: 0.0010\n",
      "Epoch 3/1000\n",
      "11/11 [==============================] - 10s 937ms/step - loss: 0.9083 - mae_in_months: 14.3658 - val_loss: 0.8708 - val_mae_in_months: 13.3447 - lr: 0.0010\n",
      "Epoch 4/1000\n",
      "11/11 [==============================] - 10s 906ms/step - loss: 0.5815 - mae_in_months: 11.5060 - val_loss: 0.5644 - val_mae_in_months: 10.5814 - lr: 0.0010\n",
      "Epoch 5/1000\n",
      "11/11 [==============================] - 10s 925ms/step - loss: 0.4623 - mae_in_months: 10.0411 - val_loss: 0.5468 - val_mae_in_months: 10.2444 - lr: 0.0010\n",
      "Epoch 6/1000\n",
      "11/11 [==============================] - 10s 900ms/step - loss: 0.3619 - mae_in_months: 8.7956 - val_loss: 0.3103 - val_mae_in_months: 8.1747 - lr: 0.0010\n",
      "Epoch 7/1000\n",
      "11/11 [==============================] - 10s 940ms/step - loss: 0.2978 - mae_in_months: 7.7936 - val_loss: 0.2797 - val_mae_in_months: 7.4536 - lr: 0.0010\n",
      "Epoch 8/1000\n",
      "11/11 [==============================] - 10s 922ms/step - loss: 0.2615 - mae_in_months: 7.3521 - val_loss: 0.2727 - val_mae_in_months: 7.3586 - lr: 0.0010\n",
      "Epoch 9/1000\n",
      "11/11 [==============================] - 3s 287ms/step - loss: 0.2930 - mae_in_months: 7.5867 - val_loss: 0.3373 - val_mae_in_months: 8.1395 - lr: 0.0010\n",
      "Epoch 10/1000\n",
      "11/11 [==============================] - 10s 903ms/step - loss: 0.2438 - mae_in_months: 7.0711 - val_loss: 0.2305 - val_mae_in_months: 7.0958 - lr: 0.0010\n",
      "Epoch 11/1000\n",
      "11/11 [==============================] - 3s 286ms/step - loss: 0.2106 - mae_in_months: 6.3905 - val_loss: 0.2900 - val_mae_in_months: 7.4105 - lr: 0.0010\n",
      "Epoch 12/1000\n",
      "11/11 [==============================] - 10s 898ms/step - loss: 0.1690 - mae_in_months: 5.6259 - val_loss: 0.2092 - val_mae_in_months: 6.7764 - lr: 0.0010\n",
      "Epoch 13/1000\n",
      "11/11 [==============================] - 10s 869ms/step - loss: 0.2028 - mae_in_months: 6.2559 - val_loss: 0.1714 - val_mae_in_months: 6.0433 - lr: 0.0010\n",
      "Epoch 14/1000\n",
      "11/11 [==============================] - 3s 285ms/step - loss: 0.3772 - mae_in_months: 8.4885 - val_loss: 0.2019 - val_mae_in_months: 6.2309 - lr: 0.0010\n",
      "Epoch 15/1000\n",
      "11/11 [==============================] - 3s 285ms/step - loss: 0.2342 - mae_in_months: 6.6682 - val_loss: 0.1929 - val_mae_in_months: 6.0706 - lr: 0.0010\n",
      "Epoch 16/1000\n",
      "11/11 [==============================] - 3s 285ms/step - loss: 0.1669 - mae_in_months: 5.5168 - val_loss: 0.1865 - val_mae_in_months: 5.8426 - lr: 0.0010\n",
      "Epoch 17/1000\n",
      "11/11 [==============================] - 3s 286ms/step - loss: 0.1941 - mae_in_months: 5.9799 - val_loss: 0.2967 - val_mae_in_months: 7.3368 - lr: 0.0010\n",
      "Epoch 18/1000\n",
      "11/11 [==============================] - 3s 288ms/step - loss: 0.1899 - mae_in_months: 6.0362 - val_loss: 0.1716 - val_mae_in_months: 6.1610 - lr: 0.0010\n",
      "Epoch 19/1000\n",
      "11/11 [==============================] - 10s 926ms/step - loss: 0.1302 - mae_in_months: 4.7322 - val_loss: 0.1710 - val_mae_in_months: 5.6312 - lr: 0.0010\n",
      "Epoch 20/1000\n",
      "11/11 [==============================] - 3s 286ms/step - loss: 1.8216 - mae_in_months: 12.3776 - val_loss: 0.2816 - val_mae_in_months: 7.3240 - lr: 0.0010\n",
      "Epoch 21/1000\n",
      "11/11 [==============================] - 3s 286ms/step - loss: 0.2422 - mae_in_months: 7.0863 - val_loss: 0.1988 - val_mae_in_months: 6.4396 - lr: 0.0010\n",
      "Epoch 22/1000\n",
      "11/11 [==============================] - 3s 286ms/step - loss: 0.2269 - mae_in_months: 6.6439 - val_loss: 0.1941 - val_mae_in_months: 6.0713 - lr: 0.0010\n",
      "Epoch 23/1000\n",
      "11/11 [==============================] - 3s 286ms/step - loss: 0.1539 - mae_in_months: 5.4754 - val_loss: 0.1731 - val_mae_in_months: 5.9343 - lr: 0.0010\n",
      "Epoch 24/1000\n",
      "11/11 [==============================] - 10s 885ms/step - loss: 0.1630 - mae_in_months: 5.4273 - val_loss: 0.1582 - val_mae_in_months: 5.6457 - lr: 0.0010\n",
      "Epoch 25/1000\n",
      "11/11 [==============================] - 3s 286ms/step - loss: 0.1308 - mae_in_months: 4.8364 - val_loss: 0.5089 - val_mae_in_months: 11.3830 - lr: 0.0010\n",
      "Epoch 26/1000\n",
      "11/11 [==============================] - 3s 286ms/step - loss: 0.1957 - mae_in_months: 6.0000 - val_loss: 0.1615 - val_mae_in_months: 5.6488 - lr: 0.0010\n",
      "Epoch 27/1000\n",
      "11/11 [==============================] - 3s 285ms/step - loss: 0.1665 - mae_in_months: 5.6727 - val_loss: 0.1902 - val_mae_in_months: 5.7810 - lr: 0.0010\n",
      "Epoch 28/1000\n",
      "11/11 [==============================] - 10s 887ms/step - loss: 0.1021 - mae_in_months: 4.2415 - val_loss: 0.1529 - val_mae_in_months: 5.7283 - lr: 0.0010\n",
      "Epoch 29/1000\n",
      "11/11 [==============================] - 3s 286ms/step - loss: 0.1440 - mae_in_months: 5.0927 - val_loss: 0.2227 - val_mae_in_months: 6.5434 - lr: 0.0010\n",
      "Epoch 30/1000\n",
      "11/11 [==============================] - 10s 919ms/step - loss: 0.1017 - mae_in_months: 4.1883 - val_loss: 0.1448 - val_mae_in_months: 5.4948 - lr: 0.0010\n",
      "Epoch 31/1000\n",
      "11/11 [==============================] - 3s 286ms/step - loss: 0.1143 - mae_in_months: 4.4918 - val_loss: 0.1450 - val_mae_in_months: 5.6093 - lr: 0.0010\n",
      "Epoch 32/1000\n",
      "11/11 [==============================] - 3s 286ms/step - loss: 0.0819 - mae_in_months: 3.7097 - val_loss: 0.1618 - val_mae_in_months: 5.6770 - lr: 0.0010\n",
      "Epoch 33/1000\n",
      "11/11 [==============================] - 3s 286ms/step - loss: 0.1211 - mae_in_months: 4.5802 - val_loss: 0.1525 - val_mae_in_months: 5.6034 - lr: 0.0010\n",
      "Epoch 34/1000\n",
      "11/11 [==============================] - 3s 286ms/step - loss: 0.1051 - mae_in_months: 4.2610 - val_loss: 0.1605 - val_mae_in_months: 5.5233 - lr: 0.0010\n",
      "Epoch 35/1000\n",
      "11/11 [==============================] - 3s 288ms/step - loss: 0.0737 - mae_in_months: 3.4979 - val_loss: 0.1510 - val_mae_in_months: 5.3932 - lr: 0.0010\n",
      "Epoch 36/1000\n",
      "11/11 [==============================] - 6s 576ms/step - loss: 0.0688 - mae_in_months: 3.3065 - val_loss: 0.1438 - val_mae_in_months: 5.2969 - lr: 0.0010\n",
      "Epoch 37/1000\n",
      "11/11 [==============================] - 3s 287ms/step - loss: 0.1199 - mae_in_months: 4.9015 - val_loss: 0.2115 - val_mae_in_months: 6.2624 - lr: 0.0010\n",
      "Epoch 38/1000\n",
      "11/11 [==============================] - 9s 838ms/step - loss: 0.0641 - mae_in_months: 3.1877 - val_loss: 0.1367 - val_mae_in_months: 5.2450 - lr: 0.0010\n",
      "Epoch 39/1000\n",
      "11/11 [==============================] - 3s 285ms/step - loss: 0.0687 - mae_in_months: 3.5149 - val_loss: 0.2198 - val_mae_in_months: 6.8394 - lr: 0.0010\n",
      "Epoch 40/1000\n",
      "11/11 [==============================] - 3s 284ms/step - loss: 0.1233 - mae_in_months: 4.8712 - val_loss: 0.1472 - val_mae_in_months: 5.4785 - lr: 0.0010\n",
      "Epoch 41/1000\n",
      "11/11 [==============================] - 3s 285ms/step - loss: 0.0608 - mae_in_months: 3.3000 - val_loss: 0.1469 - val_mae_in_months: 5.3607 - lr: 0.0010\n",
      "Epoch 42/1000\n",
      "11/11 [==============================] - 11s 972ms/step - loss: 0.1052 - mae_in_months: 4.4840 - val_loss: 0.1356 - val_mae_in_months: 5.1838 - lr: 0.0010\n",
      "Epoch 43/1000\n",
      "11/11 [==============================] - 3s 287ms/step - loss: 0.0741 - mae_in_months: 3.3638 - val_loss: 0.2497 - val_mae_in_months: 6.9472 - lr: 0.0010\n",
      "Epoch 44/1000\n",
      "11/11 [==============================] - 3s 286ms/step - loss: 0.0560 - mae_in_months: 2.9857 - val_loss: 0.1968 - val_mae_in_months: 6.0082 - lr: 0.0010\n",
      "Epoch 45/1000\n",
      "11/11 [==============================] - 10s 879ms/step - loss: 0.0524 - mae_in_months: 2.9706 - val_loss: 0.1344 - val_mae_in_months: 5.0637 - lr: 0.0010\n",
      "Epoch 46/1000\n",
      "11/11 [==============================] - 3s 286ms/step - loss: 0.0647 - mae_in_months: 3.3348 - val_loss: 0.2499 - val_mae_in_months: 7.5377 - lr: 0.0010\n",
      "Epoch 47/1000\n",
      "11/11 [==============================] - 3s 286ms/step - loss: 0.1020 - mae_in_months: 4.5261 - val_loss: 0.1507 - val_mae_in_months: 5.3390 - lr: 0.0010\n",
      "Epoch 48/1000\n",
      "11/11 [==============================] - 3s 286ms/step - loss: 0.0507 - mae_in_months: 2.9069 - val_loss: 0.1380 - val_mae_in_months: 5.4536 - lr: 0.0010\n",
      "Epoch 49/1000\n",
      "11/11 [==============================] - 10s 872ms/step - loss: 0.0442 - mae_in_months: 2.8851 - val_loss: 0.1316 - val_mae_in_months: 5.1266 - lr: 0.0010\n"
     ]
    },
    {
     "name": "stdout",
     "output_type": "stream",
     "text": [
      "Epoch 50/1000\n",
      "11/11 [==============================] - 3s 287ms/step - loss: 0.0373 - mae_in_months: 2.4785 - val_loss: 0.1381 - val_mae_in_months: 5.1228 - lr: 0.0010\n",
      "Epoch 51/1000\n",
      "11/11 [==============================] - 3s 288ms/step - loss: 0.0450 - mae_in_months: 2.9148 - val_loss: 0.2389 - val_mae_in_months: 6.8779 - lr: 0.0010\n",
      "Epoch 52/1000\n",
      "11/11 [==============================] - 3s 287ms/step - loss: 0.0397 - mae_in_months: 2.7459 - val_loss: 0.1493 - val_mae_in_months: 5.6751 - lr: 0.0010\n",
      "Epoch 53/1000\n",
      "11/11 [==============================] - 3s 286ms/step - loss: 0.0397 - mae_in_months: 2.8025 - val_loss: 0.1521 - val_mae_in_months: 5.4189 - lr: 0.0010\n",
      "Epoch 54/1000\n",
      "11/11 [==============================] - 3s 287ms/step - loss: 0.0243 - mae_in_months: 2.0288 - val_loss: 0.1906 - val_mae_in_months: 6.0843 - lr: 0.0010\n",
      "Epoch 55/1000\n",
      "11/11 [==============================] - 3s 286ms/step - loss: 0.0431 - mae_in_months: 3.0027 - val_loss: 0.1694 - val_mae_in_months: 5.7409 - lr: 0.0010\n",
      "Epoch 56/1000\n",
      "11/11 [==============================] - 3s 286ms/step - loss: 0.0317 - mae_in_months: 2.4851 - val_loss: 0.2217 - val_mae_in_months: 6.4876 - lr: 0.0010\n",
      "Epoch 57/1000\n",
      "11/11 [==============================] - 3s 286ms/step - loss: 0.0210 - mae_in_months: 1.9634 - val_loss: 0.1325 - val_mae_in_months: 5.0885 - lr: 0.0010\n",
      "Epoch 58/1000\n",
      "11/11 [==============================] - 3s 285ms/step - loss: 0.0323 - mae_in_months: 2.6574 - val_loss: 0.1380 - val_mae_in_months: 5.3304 - lr: 0.0010\n",
      "Epoch 59/1000\n",
      "11/11 [==============================] - 3s 286ms/step - loss: 0.0392 - mae_in_months: 2.8785 - val_loss: 0.1362 - val_mae_in_months: 5.2595 - lr: 0.0010\n",
      "Epoch 60/1000\n",
      "11/11 [==============================] - 3s 287ms/step - loss: 0.0154 - mae_in_months: 1.6869 - val_loss: 0.1360 - val_mae_in_months: 5.2034 - lr: 0.0010\n",
      "Epoch 61/1000\n",
      "11/11 [==============================] - 3s 286ms/step - loss: 0.0234 - mae_in_months: 2.1883 - val_loss: 0.1580 - val_mae_in_months: 5.8846 - lr: 0.0010\n",
      "Epoch 62/1000\n",
      "11/11 [==============================] - 3s 287ms/step - loss: 0.0493 - mae_in_months: 3.3359 - val_loss: 0.1324 - val_mae_in_months: 5.0606 - lr: 0.0010\n",
      "Epoch 63/1000\n",
      "11/11 [==============================] - 10s 932ms/step - loss: 0.0098 - mae_in_months: 1.3549 - val_loss: 0.1279 - val_mae_in_months: 5.0237 - lr: 0.0010\n",
      "Epoch 64/1000\n",
      "11/11 [==============================] - 3s 285ms/step - loss: 0.0074 - mae_in_months: 1.1850 - val_loss: 0.1311 - val_mae_in_months: 5.0943 - lr: 0.0010\n",
      "Epoch 65/1000\n",
      "11/11 [==============================] - 3s 285ms/step - loss: 0.0188 - mae_in_months: 1.8550 - val_loss: 0.1760 - val_mae_in_months: 6.1649 - lr: 0.0010\n",
      "Epoch 66/1000\n",
      "11/11 [==============================] - 3s 285ms/step - loss: 0.0267 - mae_in_months: 2.4127 - val_loss: 0.1319 - val_mae_in_months: 5.1098 - lr: 0.0010\n",
      "Epoch 67/1000\n",
      "11/11 [==============================] - 3s 286ms/step - loss: 0.0094 - mae_in_months: 1.3857 - val_loss: 0.1280 - val_mae_in_months: 5.1164 - lr: 0.0010\n",
      "Epoch 68/1000\n",
      "11/11 [==============================] - 3s 286ms/step - loss: 0.0450 - mae_in_months: 3.4005 - val_loss: 0.2352 - val_mae_in_months: 6.7315 - lr: 0.0010\n",
      "Epoch 69/1000\n",
      "11/11 [==============================] - 11s 957ms/step - loss: 0.0286 - mae_in_months: 2.4472 - val_loss: 0.1264 - val_mae_in_months: 5.0762 - lr: 0.0010\n",
      "Epoch 70/1000\n",
      "11/11 [==============================] - 3s 286ms/step - loss: 0.0067 - mae_in_months: 1.1040 - val_loss: 0.1291 - val_mae_in_months: 5.0095 - lr: 0.0010\n",
      "Epoch 71/1000\n",
      "11/11 [==============================] - 3s 286ms/step - loss: 0.0071 - mae_in_months: 1.1567 - val_loss: 0.1451 - val_mae_in_months: 5.2568 - lr: 0.0010\n",
      "Epoch 72/1000\n",
      "11/11 [==============================] - 3s 286ms/step - loss: 0.0151 - mae_in_months: 1.9178 - val_loss: 0.1365 - val_mae_in_months: 5.3443 - lr: 0.0010\n",
      "Epoch 73/1000\n",
      "11/11 [==============================] - 3s 287ms/step - loss: 0.0159 - mae_in_months: 1.9541 - val_loss: 0.1457 - val_mae_in_months: 5.2854 - lr: 0.0010\n",
      "Epoch 74/1000\n",
      "11/11 [==============================] - 10s 887ms/step - loss: 0.0072 - mae_in_months: 1.2130 - val_loss: 0.1247 - val_mae_in_months: 5.0588 - lr: 0.0010\n",
      "Epoch 75/1000\n",
      "11/11 [==============================] - 3s 286ms/step - loss: 0.0035 - mae_in_months: 0.8474 - val_loss: 0.1362 - val_mae_in_months: 5.1340 - lr: 0.0010\n",
      "Epoch 76/1000\n",
      "11/11 [==============================] - 3s 285ms/step - loss: 0.0134 - mae_in_months: 1.8471 - val_loss: 0.1328 - val_mae_in_months: 5.2287 - lr: 0.0010\n",
      "Epoch 77/1000\n",
      "11/11 [==============================] - 3s 286ms/step - loss: 0.0077 - mae_in_months: 1.2670 - val_loss: 0.1317 - val_mae_in_months: 5.0583 - lr: 0.0010\n",
      "Epoch 78/1000\n",
      "11/11 [==============================] - 3s 286ms/step - loss: 0.0073 - mae_in_months: 1.2082 - val_loss: 0.1672 - val_mae_in_months: 5.6254 - lr: 0.0010\n",
      "Epoch 79/1000\n",
      "11/11 [==============================] - 3s 286ms/step - loss: 0.0185 - mae_in_months: 2.0365 - val_loss: 0.1452 - val_mae_in_months: 5.2715 - lr: 0.0010\n",
      "Epoch 80/1000\n",
      "11/11 [==============================] - 3s 285ms/step - loss: 0.0039 - mae_in_months: 0.8731 - val_loss: 0.1270 - val_mae_in_months: 5.0656 - lr: 0.0010\n",
      "Epoch 81/1000\n",
      "11/11 [==============================] - 3s 285ms/step - loss: 0.0031 - mae_in_months: 0.7871 - val_loss: 0.1293 - val_mae_in_months: 5.0934 - lr: 0.0010\n",
      "Epoch 82/1000\n",
      "11/11 [==============================] - 3s 286ms/step - loss: 0.0096 - mae_in_months: 1.4663 - val_loss: 0.1717 - val_mae_in_months: 5.6514 - lr: 0.0010\n",
      "Epoch 83/1000\n",
      "11/11 [==============================] - 3s 286ms/step - loss: 0.0276 - mae_in_months: 2.4770 - val_loss: 0.1281 - val_mae_in_months: 5.1824 - lr: 0.0010\n",
      "Epoch 84/1000\n",
      "11/11 [==============================] - 3s 286ms/step - loss: 0.0037 - mae_in_months: 0.8574 - val_loss: 0.1343 - val_mae_in_months: 5.1437 - lr: 0.0010\n",
      "Epoch 85/1000\n",
      "11/11 [==============================] - 10s 887ms/step - loss: 0.0028 - mae_in_months: 0.7366 - val_loss: 0.1245 - val_mae_in_months: 5.0360 - lr: 0.0010\n",
      "Epoch 86/1000\n",
      "11/11 [==============================] - 3s 287ms/step - loss: 0.0019 - mae_in_months: 0.6026 - val_loss: 0.1338 - val_mae_in_months: 5.0795 - lr: 0.0010\n",
      "Epoch 87/1000\n",
      "11/11 [==============================] - 3s 286ms/step - loss: 0.0068 - mae_in_months: 1.2666 - val_loss: 0.1327 - val_mae_in_months: 5.2023 - lr: 0.0010\n",
      "Epoch 88/1000\n",
      "11/11 [==============================] - 3s 286ms/step - loss: 0.0048 - mae_in_months: 1.0172 - val_loss: 0.1314 - val_mae_in_months: 5.0713 - lr: 0.0010\n",
      "Epoch 89/1000\n",
      "11/11 [==============================] - 3s 286ms/step - loss: 0.0040 - mae_in_months: 0.9574 - val_loss: 0.1271 - val_mae_in_months: 5.0332 - lr: 0.0010\n",
      "Epoch 90/1000\n",
      "11/11 [==============================] - 3s 285ms/step - loss: 0.0020 - mae_in_months: 0.6466 - val_loss: 0.1253 - val_mae_in_months: 5.0818 - lr: 0.0010\n",
      "Epoch 91/1000\n",
      "11/11 [==============================] - 3s 286ms/step - loss: 0.0114 - mae_in_months: 1.7511 - val_loss: 0.1512 - val_mae_in_months: 5.4439 - lr: 0.0010\n",
      "Epoch 92/1000\n",
      "11/11 [==============================] - 3s 286ms/step - loss: 0.0043 - mae_in_months: 0.9674 - val_loss: 0.1255 - val_mae_in_months: 5.1367 - lr: 0.0010\n",
      "Epoch 93/1000\n",
      "11/11 [==============================] - 3s 286ms/step - loss: 0.0017 - mae_in_months: 0.6017 - val_loss: 0.1302 - val_mae_in_months: 5.1229 - lr: 0.0010\n",
      "Epoch 94/1000\n",
      "11/11 [==============================] - 3s 285ms/step - loss: 8.0124e-04 - mae_in_months: 0.4030 - val_loss: 0.1258 - val_mae_in_months: 5.0720 - lr: 0.0010\n",
      "Epoch 95/1000\n",
      "11/11 [==============================] - 3s 286ms/step - loss: 0.0025 - mae_in_months: 0.7912 - val_loss: 0.1357 - val_mae_in_months: 5.1243 - lr: 0.0010\n",
      "Epoch 96/1000\n",
      "11/11 [==============================] - 3s 284ms/step - loss: 0.0028 - mae_in_months: 0.8183 - val_loss: 0.1255 - val_mae_in_months: 5.0644 - lr: 0.0010\n",
      "Epoch 97/1000\n",
      "11/11 [==============================] - 3s 285ms/step - loss: 0.0066 - mae_in_months: 1.2406 - val_loss: 0.1590 - val_mae_in_months: 5.4663 - lr: 0.0010\n",
      "Epoch 98/1000\n",
      "11/11 [==============================] - 3s 285ms/step - loss: 0.0161 - mae_in_months: 2.1003 - val_loss: 0.1511 - val_mae_in_months: 5.7044 - lr: 0.0010\n"
     ]
    },
    {
     "name": "stdout",
     "output_type": "stream",
     "text": [
      "Epoch 99/1000\n",
      "11/11 [==============================] - 3s 286ms/step - loss: 0.0429 - mae_in_months: 3.0157 - val_loss: 0.1434 - val_mae_in_months: 5.3179 - lr: 0.0010\n",
      "Epoch 100/1000\n",
      "11/11 [==============================] - 10s 921ms/step - loss: 0.0052 - mae_in_months: 1.0581 - val_loss: 0.1243 - val_mae_in_months: 5.0433 - lr: 0.0010\n",
      "Epoch 101/1000\n",
      "11/11 [==============================] - 10s 935ms/step - loss: 0.0030 - mae_in_months: 0.7834 - val_loss: 0.1234 - val_mae_in_months: 5.0439 - lr: 0.0010\n",
      "Epoch 102/1000\n",
      "11/11 [==============================] - 3s 286ms/step - loss: 0.0043 - mae_in_months: 1.0041 - val_loss: 0.1369 - val_mae_in_months: 5.1957 - lr: 0.0010\n",
      "Epoch 103/1000\n",
      "11/11 [==============================] - 3s 287ms/step - loss: 0.0016 - mae_in_months: 0.5687 - val_loss: 0.1271 - val_mae_in_months: 5.0440 - lr: 0.0010\n",
      "Epoch 104/1000\n",
      "11/11 [==============================] - 3s 286ms/step - loss: 0.0010 - mae_in_months: 0.4663 - val_loss: 0.1254 - val_mae_in_months: 5.0146 - lr: 0.0010\n",
      "Epoch 105/1000\n",
      "11/11 [==============================] - 3s 286ms/step - loss: 0.0014 - mae_in_months: 0.5738 - val_loss: 0.1301 - val_mae_in_months: 5.1032 - lr: 0.0010\n",
      "Epoch 106/1000\n",
      "11/11 [==============================] - 3s 286ms/step - loss: 6.0381e-04 - mae_in_months: 0.3605 - val_loss: 0.1262 - val_mae_in_months: 5.0258 - lr: 0.0010\n",
      "Epoch 107/1000\n",
      "11/11 [==============================] - 3s 286ms/step - loss: 0.0016 - mae_in_months: 0.6338 - val_loss: 0.1365 - val_mae_in_months: 5.1505 - lr: 0.0010\n",
      "Epoch 108/1000\n",
      "11/11 [==============================] - 3s 286ms/step - loss: 0.0034 - mae_in_months: 0.9470 - val_loss: 0.1262 - val_mae_in_months: 5.0240 - lr: 0.0010\n",
      "Epoch 109/1000\n",
      "11/11 [==============================] - 3s 286ms/step - loss: 0.0031 - mae_in_months: 0.8860 - val_loss: 0.1263 - val_mae_in_months: 5.0587 - lr: 0.0010\n",
      "Epoch 110/1000\n",
      "11/11 [==============================] - 3s 286ms/step - loss: 5.6329e-04 - mae_in_months: 0.3270 - val_loss: 0.1255 - val_mae_in_months: 5.0575 - lr: 0.0010\n",
      "Epoch 111/1000\n",
      "11/11 [==============================] - 3s 286ms/step - loss: 3.7316e-04 - mae_in_months: 0.2749 - val_loss: 0.1295 - val_mae_in_months: 5.0778 - lr: 0.0010\n",
      "Epoch 112/1000\n",
      "11/11 [==============================] - 3s 287ms/step - loss: 2.6109e-04 - mae_in_months: 0.2316 - val_loss: 0.1279 - val_mae_in_months: 5.0570 - lr: 0.0010\n",
      "Epoch 113/1000\n",
      "11/11 [==============================] - 3s 286ms/step - loss: 3.2940e-04 - mae_in_months: 0.2635 - val_loss: 0.1309 - val_mae_in_months: 5.1090 - lr: 0.0010\n",
      "Epoch 114/1000\n",
      "11/11 [==============================] - 3s 286ms/step - loss: 9.5862e-04 - mae_in_months: 0.5087 - val_loss: 0.1252 - val_mae_in_months: 5.0347 - lr: 0.0010\n",
      "Epoch 115/1000\n",
      "11/11 [==============================] - 3s 286ms/step - loss: 0.0024 - mae_in_months: 0.7944 - val_loss: 0.1460 - val_mae_in_months: 5.3502 - lr: 0.0010\n",
      "Epoch 116/1000\n",
      "11/11 [==============================] - 3s 286ms/step - loss: 0.0475 - mae_in_months: 3.4644 - val_loss: 0.1526 - val_mae_in_months: 5.5919 - lr: 0.0010\n",
      "Epoch 117/1000\n",
      "11/11 [==============================] - 3s 286ms/step - loss: 0.0256 - mae_in_months: 2.2327 - val_loss: 0.1439 - val_mae_in_months: 5.4071 - lr: 0.0010\n",
      "Epoch 118/1000\n",
      "11/11 [==============================] - 3s 287ms/step - loss: 0.0071 - mae_in_months: 1.1892 - val_loss: 0.1237 - val_mae_in_months: 5.0681 - lr: 0.0010\n",
      "Epoch 119/1000\n",
      "11/11 [==============================] - 3s 286ms/step - loss: 0.0107 - mae_in_months: 1.5909 - val_loss: 0.1264 - val_mae_in_months: 5.0808 - lr: 0.0010\n",
      "Epoch 120/1000\n",
      "11/11 [==============================] - 3s 286ms/step - loss: 0.0019 - mae_in_months: 0.6278 - val_loss: 0.1254 - val_mae_in_months: 5.0245 - lr: 0.0010\n",
      "Epoch 121/1000\n",
      "11/11 [==============================] - 3s 287ms/step - loss: 7.3712e-04 - mae_in_months: 0.3861 - val_loss: 0.1271 - val_mae_in_months: 5.0602 - lr: 0.0010\n",
      "Epoch 122/1000\n",
      "11/11 [==============================] - 3s 286ms/step - loss: 7.3850e-04 - mae_in_months: 0.3924 - val_loss: 0.1254 - val_mae_in_months: 5.0180 - lr: 0.0010\n",
      "Epoch 123/1000\n",
      "11/11 [==============================] - 3s 287ms/step - loss: 4.3792e-04 - mae_in_months: 0.3028 - val_loss: 0.1292 - val_mae_in_months: 5.0570 - lr: 0.0010\n",
      "Epoch 124/1000\n",
      "11/11 [==============================] - 3s 287ms/step - loss: 2.5500e-04 - mae_in_months: 0.2285 - val_loss: 0.1269 - val_mae_in_months: 5.0251 - lr: 0.0010\n",
      "Epoch 125/1000\n",
      "11/11 [==============================] - 3s 286ms/step - loss: 5.8756e-04 - mae_in_months: 0.3730 - val_loss: 0.1248 - val_mae_in_months: 4.9840 - lr: 0.0010\n",
      "Epoch 126/1000\n",
      "11/11 [==============================] - 3s 285ms/step - loss: 6.9641e-04 - mae_in_months: 0.3961 - val_loss: 0.1291 - val_mae_in_months: 5.0676 - lr: 0.0010\n",
      "Epoch 127/1000\n",
      "11/11 [==============================] - 3s 284ms/step - loss: 5.1698e-04 - mae_in_months: 0.3404 - val_loss: 0.1241 - val_mae_in_months: 4.9879 - lr: 0.0010\n",
      "Epoch 128/1000\n",
      "11/11 [==============================] - 3s 284ms/step - loss: 5.1355e-04 - mae_in_months: 0.3339 - val_loss: 0.1329 - val_mae_in_months: 5.1091 - lr: 0.0010\n",
      "Epoch 129/1000\n",
      "11/11 [==============================] - 3s 285ms/step - loss: 0.0042 - mae_in_months: 1.0486 - val_loss: 0.1258 - val_mae_in_months: 5.0842 - lr: 0.0010\n",
      "Epoch 130/1000\n",
      "11/11 [==============================] - 3s 286ms/step - loss: 0.0028 - mae_in_months: 0.7545 - val_loss: 0.1353 - val_mae_in_months: 5.1675 - lr: 0.0010\n",
      "Epoch 131/1000\n",
      "11/11 [==============================] - 3s 287ms/step - loss: 0.0011 - mae_in_months: 0.4947 - val_loss: 0.1257 - val_mae_in_months: 5.0161 - lr: 0.0010\n",
      "Epoch 132/1000\n",
      "11/11 [==============================] - 3s 287ms/step - loss: 6.1620e-04 - mae_in_months: 0.3726 - val_loss: 0.1331 - val_mae_in_months: 5.0975 - lr: 0.0010\n",
      "Epoch 133/1000\n",
      "11/11 [==============================] - 3s 285ms/step - loss: 0.0034 - mae_in_months: 0.9743 - val_loss: 0.1255 - val_mae_in_months: 5.0448 - lr: 0.0010\n",
      "Epoch 134/1000\n",
      "11/11 [==============================] - 3s 285ms/step - loss: 0.0065 - mae_in_months: 1.3304 - val_loss: 0.1351 - val_mae_in_months: 5.2152 - lr: 0.0010\n",
      "Epoch 135/1000\n",
      "11/11 [==============================] - 3s 286ms/step - loss: 0.0056 - mae_in_months: 1.1848 - val_loss: 0.1253 - val_mae_in_months: 5.0465 - lr: 0.0010\n",
      "Epoch 136/1000\n",
      "11/11 [==============================] - 3s 285ms/step - loss: 0.0015 - mae_in_months: 0.5665 - val_loss: 0.1264 - val_mae_in_months: 5.0532 - lr: 0.0010\n",
      "Epoch 137/1000\n",
      "11/11 [==============================] - 3s 285ms/step - loss: 0.0011 - mae_in_months: 0.4929 - val_loss: 0.1234 - val_mae_in_months: 4.9698 - lr: 0.0010\n",
      "Epoch 138/1000\n",
      "11/11 [==============================] - 3s 285ms/step - loss: 0.0012 - mae_in_months: 0.5418 - val_loss: 0.1316 - val_mae_in_months: 5.1171 - lr: 0.0010\n",
      "Epoch 139/1000\n",
      "11/11 [==============================] - 3s 285ms/step - loss: 0.0010 - mae_in_months: 0.5021 - val_loss: 0.1242 - val_mae_in_months: 4.9524 - lr: 0.0010\n",
      "Epoch 140/1000\n",
      "11/11 [==============================] - 3s 286ms/step - loss: 6.4709e-04 - mae_in_months: 0.3844 - val_loss: 0.1249 - val_mae_in_months: 4.9914 - lr: 0.0010\n",
      "Epoch 141/1000\n",
      "11/11 [==============================] - 3s 287ms/step - loss: 3.2801e-04 - mae_in_months: 0.2765 - val_loss: 0.1278 - val_mae_in_months: 5.0560 - lr: 0.0010\n",
      "Epoch 142/1000\n",
      "11/11 [==============================] - 3s 287ms/step - loss: 2.2164e-04 - mae_in_months: 0.2226 - val_loss: 0.1255 - val_mae_in_months: 5.0113 - lr: 0.0010\n",
      "Epoch 143/1000\n",
      "11/11 [==============================] - 3s 288ms/step - loss: 1.2329e-04 - mae_in_months: 0.1599 - val_loss: 0.1286 - val_mae_in_months: 5.0572 - lr: 0.0010\n",
      "Epoch 144/1000\n",
      "11/11 [==============================] - 10s 916ms/step - loss: 0.0012 - mae_in_months: 0.5585 - val_loss: 0.1222 - val_mae_in_months: 4.9706 - lr: 0.0010\n",
      "Epoch 145/1000\n",
      "11/11 [==============================] - 3s 286ms/step - loss: 0.0265 - mae_in_months: 2.4580 - val_loss: 0.2743 - val_mae_in_months: 7.5260 - lr: 0.0010\n",
      "Epoch 146/1000\n",
      "11/11 [==============================] - 3s 286ms/step - loss: 0.0443 - mae_in_months: 2.8857 - val_loss: 0.1288 - val_mae_in_months: 5.0652 - lr: 0.0010\n",
      "Epoch 147/1000\n"
     ]
    },
    {
     "name": "stdout",
     "output_type": "stream",
     "text": [
      "11/11 [==============================] - 3s 287ms/step - loss: 0.0057 - mae_in_months: 1.0752 - val_loss: 0.1250 - val_mae_in_months: 4.9795 - lr: 0.0010\n",
      "Epoch 148/1000\n",
      "11/11 [==============================] - 3s 286ms/step - loss: 0.0024 - mae_in_months: 0.6693 - val_loss: 0.1232 - val_mae_in_months: 4.9331 - lr: 0.0010\n",
      "Epoch 149/1000\n",
      "11/11 [==============================] - 3s 286ms/step - loss: 0.0017 - mae_in_months: 0.5840 - val_loss: 0.1324 - val_mae_in_months: 5.1195 - lr: 0.0010\n",
      "Epoch 150/1000\n",
      "11/11 [==============================] - 3s 286ms/step - loss: 0.0015 - mae_in_months: 0.5891 - val_loss: 0.1232 - val_mae_in_months: 4.9399 - lr: 0.0010\n",
      "Epoch 151/1000\n",
      "11/11 [==============================] - 3s 286ms/step - loss: 0.0027 - mae_in_months: 0.7849 - val_loss: 0.1242 - val_mae_in_months: 4.9362 - lr: 0.0010\n",
      "Epoch 152/1000\n",
      "11/11 [==============================] - 3s 286ms/step - loss: 0.0048 - mae_in_months: 1.0476 - val_loss: 0.1505 - val_mae_in_months: 5.3886 - lr: 0.0010\n",
      "Epoch 153/1000\n",
      "11/11 [==============================] - 3s 286ms/step - loss: 0.0053 - mae_in_months: 1.2075 - val_loss: 0.1230 - val_mae_in_months: 4.9385 - lr: 0.0010\n",
      "Epoch 154/1000\n",
      "11/11 [==============================] - 3s 286ms/step - loss: 0.0027 - mae_in_months: 0.8149 - val_loss: 0.1336 - val_mae_in_months: 5.1481 - lr: 0.0010\n",
      "Epoch 155/1000\n",
      "11/11 [==============================] - 3s 286ms/step - loss: 0.0044 - mae_in_months: 1.0683 - val_loss: 0.1228 - val_mae_in_months: 4.9460 - lr: 0.0010\n",
      "Epoch 156/1000\n",
      "11/11 [==============================] - 3s 289ms/step - loss: 0.0019 - mae_in_months: 0.6391 - val_loss: 0.1313 - val_mae_in_months: 5.0581 - lr: 0.0010\n",
      "Epoch 157/1000\n",
      "11/11 [==============================] - 3s 287ms/step - loss: 6.0462e-04 - mae_in_months: 0.3491 - val_loss: 0.1263 - val_mae_in_months: 5.0024 - lr: 0.0010\n",
      "Epoch 158/1000\n",
      "11/11 [==============================] - 3s 286ms/step - loss: 3.0052e-04 - mae_in_months: 0.2452 - val_loss: 0.1246 - val_mae_in_months: 4.9728 - lr: 0.0010\n",
      "Epoch 159/1000\n",
      "11/11 [==============================] - 3s 286ms/step - loss: 2.3263e-04 - mae_in_months: 0.2207 - val_loss: 0.1267 - val_mae_in_months: 4.9943 - lr: 0.0010\n",
      "Epoch 160/1000\n",
      "11/11 [==============================] - 3s 286ms/step - loss: 2.0059e-04 - mae_in_months: 0.2137 - val_loss: 0.1264 - val_mae_in_months: 4.9921 - lr: 0.0010\n",
      "Epoch 161/1000\n",
      "11/11 [==============================] - 3s 286ms/step - loss: 1.1941e-04 - mae_in_months: 0.1590 - val_loss: 0.1249 - val_mae_in_months: 4.9787 - lr: 0.0010\n",
      "Epoch 162/1000\n",
      "11/11 [==============================] - 3s 286ms/step - loss: 7.5073e-05 - mae_in_months: 0.1230 - val_loss: 0.1261 - val_mae_in_months: 4.9928 - lr: 0.0010\n",
      "Epoch 163/1000\n",
      "11/11 [==============================] - 3s 286ms/step - loss: 7.7392e-05 - mae_in_months: 0.1248 - val_loss: 0.1271 - val_mae_in_months: 5.0159 - lr: 0.0010\n",
      "Epoch 164/1000\n",
      "11/11 [==============================] - 3s 287ms/step - loss: 1.2887e-04 - mae_in_months: 0.1752 - val_loss: 0.1257 - val_mae_in_months: 4.9788 - lr: 0.0010\n",
      "Epoch 165/1000\n",
      "11/11 [==============================] - 3s 287ms/step - loss: 4.7870e-05 - mae_in_months: 0.1003 - val_loss: 0.1252 - val_mae_in_months: 4.9748 - lr: 0.0010\n",
      "Epoch 166/1000\n",
      "11/11 [==============================] - 3s 286ms/step - loss: 5.8316e-05 - mae_in_months: 0.1105 - val_loss: 0.1263 - val_mae_in_months: 4.9889 - lr: 0.0010\n",
      "Epoch 167/1000\n",
      "11/11 [==============================] - 3s 286ms/step - loss: 2.1593e-04 - mae_in_months: 0.2303 - val_loss: 0.1238 - val_mae_in_months: 4.9426 - lr: 0.0010\n",
      "Epoch 168/1000\n",
      "11/11 [==============================] - 3s 286ms/step - loss: 8.9751e-05 - mae_in_months: 0.1379 - val_loss: 0.1259 - val_mae_in_months: 4.9900 - lr: 0.0010\n",
      "Epoch 169/1000\n",
      "11/11 [==============================] - 3s 285ms/step - loss: 9.9043e-05 - mae_in_months: 0.1545 - val_loss: 0.1248 - val_mae_in_months: 4.9559 - lr: 0.0010\n",
      "Epoch 170/1000\n",
      "11/11 [==============================] - 3s 285ms/step - loss: 2.6558e-04 - mae_in_months: 0.2607 - val_loss: 0.1293 - val_mae_in_months: 5.0821 - lr: 0.0010\n",
      "Epoch 171/1000\n",
      "11/11 [==============================] - 3s 284ms/step - loss: 9.1078e-04 - mae_in_months: 0.4855 - val_loss: 0.1227 - val_mae_in_months: 4.9566 - lr: 0.0010\n",
      "Epoch 172/1000\n",
      "11/11 [==============================] - 3s 284ms/step - loss: 0.0026 - mae_in_months: 0.8548 - val_loss: 0.1414 - val_mae_in_months: 5.2603 - lr: 0.0010\n",
      "Epoch 173/1000\n",
      "11/11 [==============================] - 3s 286ms/step - loss: 0.0264 - mae_in_months: 2.6520 - val_loss: 0.1333 - val_mae_in_months: 5.1831 - lr: 0.0010\n",
      "Epoch 174/1000\n",
      "11/11 [==============================] - 3s 287ms/step - loss: 0.0294 - mae_in_months: 2.7464 - val_loss: 0.1501 - val_mae_in_months: 5.4778 - lr: 0.0010\n",
      "Epoch 175/1000\n",
      "11/11 [==============================] - 3s 287ms/step - loss: 0.0076 - mae_in_months: 1.2997 - val_loss: 0.1244 - val_mae_in_months: 4.9045 - lr: 0.0010\n",
      "Epoch 176/1000\n",
      "11/11 [==============================] - 3s 288ms/step - loss: 0.0018 - mae_in_months: 0.6264 - val_loss: 0.1246 - val_mae_in_months: 4.9558 - lr: 0.0010\n",
      "Epoch 177/1000\n",
      "11/11 [==============================] - 3s 287ms/step - loss: 0.0030 - mae_in_months: 0.8263 - val_loss: 0.1304 - val_mae_in_months: 5.1237 - lr: 0.0010\n",
      "Epoch 178/1000\n",
      "11/11 [==============================] - 3s 286ms/step - loss: 0.0014 - mae_in_months: 0.5393 - val_loss: 0.1289 - val_mae_in_months: 5.0845 - lr: 0.0010\n",
      "Epoch 179/1000\n",
      "11/11 [==============================] - 3s 287ms/step - loss: 0.0012 - mae_in_months: 0.4910 - val_loss: 0.1240 - val_mae_in_months: 4.9522 - lr: 0.0010\n",
      "Epoch 180/1000\n",
      "11/11 [==============================] - 3s 286ms/step - loss: 9.9863e-04 - mae_in_months: 0.4776 - val_loss: 0.1334 - val_mae_in_months: 5.1453 - lr: 0.0010\n",
      "Epoch 181/1000\n",
      "11/11 [==============================] - 3s 286ms/step - loss: 0.0015 - mae_in_months: 0.6092 - val_loss: 0.1228 - val_mae_in_months: 4.9068 - lr: 0.0010\n",
      "Epoch 182/1000\n",
      "11/11 [==============================] - 3s 287ms/step - loss: 4.7562e-04 - mae_in_months: 0.3173 - val_loss: 0.1271 - val_mae_in_months: 5.0016 - lr: 0.0010\n",
      "Epoch 183/1000\n",
      "11/11 [==============================] - 3s 286ms/step - loss: 1.8018e-04 - mae_in_months: 0.1959 - val_loss: 0.1262 - val_mae_in_months: 4.9724 - lr: 0.0010\n",
      "Epoch 184/1000\n",
      "11/11 [==============================] - 3s 286ms/step - loss: 1.2080e-04 - mae_in_months: 0.1616 - val_loss: 0.1265 - val_mae_in_months: 4.9926 - lr: 0.0010\n",
      "Epoch 185/1000\n",
      "11/11 [==============================] - 3s 286ms/step - loss: 1.8725e-04 - mae_in_months: 0.2049 - val_loss: 0.1253 - val_mae_in_months: 4.9451 - lr: 0.0010\n",
      "Epoch 186/1000\n",
      "11/11 [==============================] - 3s 285ms/step - loss: 9.0382e-05 - mae_in_months: 0.1407 - val_loss: 0.1252 - val_mae_in_months: 4.9662 - lr: 0.0010\n",
      "Epoch 187/1000\n",
      "11/11 [==============================] - 3s 285ms/step - loss: 9.8674e-05 - mae_in_months: 0.1463 - val_loss: 0.1259 - val_mae_in_months: 4.9844 - lr: 0.0010\n",
      "Epoch 188/1000\n",
      "11/11 [==============================] - 3s 286ms/step - loss: 8.4450e-05 - mae_in_months: 0.1335 - val_loss: 0.1262 - val_mae_in_months: 4.9888 - lr: 0.0010\n",
      "Epoch 189/1000\n",
      "11/11 [==============================] - 3s 286ms/step - loss: 1.0746e-04 - mae_in_months: 0.1536 - val_loss: 0.1247 - val_mae_in_months: 4.9610 - lr: 0.0010\n",
      "Epoch 190/1000\n",
      "11/11 [==============================] - 3s 288ms/step - loss: 1.3597e-04 - mae_in_months: 0.1799 - val_loss: 0.1273 - val_mae_in_months: 5.0149 - lr: 0.0010\n",
      "Epoch 191/1000\n",
      "11/11 [==============================] - 3s 286ms/step - loss: 5.3085e-04 - mae_in_months: 0.3798 - val_loss: 0.1242 - val_mae_in_months: 4.9113 - lr: 0.0010\n",
      "Epoch 192/1000\n",
      "11/11 [==============================] - 3s 285ms/step - loss: 5.3936e-04 - mae_in_months: 0.3609 - val_loss: 0.1284 - val_mae_in_months: 5.0491 - lr: 0.0010\n",
      "Epoch 193/1000\n",
      "11/11 [==============================] - 3s 286ms/step - loss: 1.6775e-04 - mae_in_months: 0.1855 - val_loss: 0.1248 - val_mae_in_months: 4.9593 - lr: 0.0010\n",
      "Epoch 194/1000\n",
      "11/11 [==============================] - 3s 286ms/step - loss: 5.2432e-04 - mae_in_months: 0.3581 - val_loss: 0.1297 - val_mae_in_months: 5.0540 - lr: 0.0010\n"
     ]
    },
    {
     "data": {
      "image/png": "[encoded data removed]",
      "text/plain": [
       "<Figure size 1440x720 with 1 Axes>"
      ]
     },
     "metadata": {},
     "output_type": "display_data"
    }
   ],
   "source": [
    "# 모델 fit\n",
    "\n",
    "epochs = 1000\n",
    "#early stopping\n",
    "early_stopping = EarlyStopping(monitor='val_loss',\n",
    "                              min_delta=0,\n",
    "                              patience= 50,\n",
    "                              verbose=0, mode='auto')\n",
    "\n",
    "mc = ModelCheckpoint(\"temp/\"+model_weight, monitor='val_loss', mode='min', save_best_only=True)\n",
    "rLR = ReduceLROnPlateau(\n",
    "    monitor='val_loss',  # 검증 손실을 기준으로 callback이 호출됩니다\n",
    "    factor=0.5,          # callback 호출시 학습률을 1/2로 줄입니다\n",
    "    patience=50,         # epoch 10 동안 개선되지 않으면 callback이 호출됩니다\n",
    ")\n",
    "\n",
    "callbacks = [early_stopping,mc,rLR]\n",
    "\n",
    "\n",
    "#fit model\n",
    "history = model.fit(train_X,train_y,\n",
    "                    validation_data = (val_X,val_y),\n",
    "                    epochs = epochs,\n",
    "                    callbacks= callbacks)\n",
    "plot_it(history)\n"
   ]
  },
  {
   "cell_type": "code",
   "execution_count": null,
   "metadata": {},
   "outputs": [],
   "source": []
  },
  {
   "cell_type": "markdown",
   "metadata": {},
   "source": [
    "## 평가 및 저장"
   ]
  },
  {
   "cell_type": "code",
   "execution_count": 11,
   "metadata": {
    "scrolled": true
   },
   "outputs": [],
   "source": [
    "model.load_weights(\"temp/\"+model_weight)"
   ]
  },
  {
   "cell_type": "code",
   "execution_count": 12,
   "metadata": {},
   "outputs": [
    {
     "name": "stdout",
     "output_type": "stream",
     "text": [
      "3/3 [==============================] - 0s 58ms/step - loss: 0.1222 - mae_in_months: 4.9706\n",
      "mae_year : 0.41421349843343097, rmse : 0.010181749239563942,r2_score : 0.8938328189557851\n"
     ]
    }
   ],
   "source": [
    "pred = model.predict(val_X)*ba_std+ba_mean\n",
    "mse, mae = model.evaluate(val_X,val_y)\n",
    "\n",
    "from sklearn.metrics import r2_score\n",
    "r2 = r2_score(val_df.boneage,pred)\n",
    "print(f\"mae_year : {mae/12}, rmse : {mse/12},r2_score : {r2}\" )"
   ]
  },
  {
   "cell_type": "code",
   "execution_count": 13,
   "metadata": {},
   "outputs": [
    {
     "data": {
      "text/plain": [
       "(0.41329588014981283, 0.4142134912898032)"
      ]
     },
     "execution_count": 13,
     "metadata": {},
     "output_type": "execute_result"
    }
   ],
   "source": [
    "from sklearn.metrics import mean_absolute_error\n",
    "v = val_y*ba_std+ba_mean\n",
    "mean_absolute_error(np.round(pred),v)/12,mean_absolute_error(pred,v)/12"
   ]
  },
  {
   "cell_type": "code",
   "execution_count": 17,
   "metadata": {},
   "outputs": [
    {
     "data": {
      "text/html": [
       "<div>\n",
       "<style scoped>\n",
       "    .dataframe tbody tr th:only-of-type {\n",
       "        vertical-align: middle;\n",
       "    }\n",
       "\n",
       "    .dataframe tbody tr th {\n",
       "        vertical-align: top;\n",
       "    }\n",
       "\n",
       "    .dataframe thead th {\n",
       "        text-align: right;\n",
       "    }\n",
       "</style>\n",
       "<table border=\"1\" class=\"dataframe\">\n",
       "  <thead>\n",
       "    <tr style=\"text-align: right;\">\n",
       "      <th></th>\n",
       "      <th>model_name</th>\n",
       "      <th>mae</th>\n",
       "      <th>mse</th>\n",
       "      <th>r2_score</th>\n",
       "      <th>input</th>\n",
       "    </tr>\n",
       "  </thead>\n",
       "  <tbody>\n",
       "    <tr>\n",
       "      <th>0</th>\n",
       "      <td>sample</td>\n",
       "      <td>0.000000</td>\n",
       "      <td>0.000000</td>\n",
       "      <td>1.000000</td>\n",
       "      <td>gender,ROI(img_size*img_size)</td>\n",
       "    </tr>\n",
       "    <tr>\n",
       "      <th>1</th>\n",
       "      <td>djnet</td>\n",
       "      <td>0.439692</td>\n",
       "      <td>0.011235</td>\n",
       "      <td>0.882849</td>\n",
       "      <td>gender,ROI(251*251)</td>\n",
       "    </tr>\n",
       "    <tr>\n",
       "      <th>2</th>\n",
       "      <td>sj_vgg_variation_weight.h5</td>\n",
       "      <td>0.439880</td>\n",
       "      <td>0.024005</td>\n",
       "      <td>0.865127</td>\n",
       "      <td>gender,ROI(251*251)</td>\n",
       "    </tr>\n",
       "    <tr>\n",
       "      <th>3</th>\n",
       "      <td>tjnet</td>\n",
       "      <td>0.444760</td>\n",
       "      <td>0.010932</td>\n",
       "      <td>0.886008</td>\n",
       "      <td>gender,ROI(251*251)</td>\n",
       "    </tr>\n",
       "    <tr>\n",
       "      <th>4</th>\n",
       "      <td>tjnet</td>\n",
       "      <td>0.428131</td>\n",
       "      <td>0.011775</td>\n",
       "      <td>0.877219</td>\n",
       "      <td>gender,ROI(251*251)</td>\n",
       "    </tr>\n",
       "  </tbody>\n",
       "</table>\n",
       "</div>"
      ],
      "text/plain": [
       "                   model_name       mae       mse  r2_score  \\\n",
       "0                      sample  0.000000  0.000000  1.000000   \n",
       "1                       djnet  0.439692  0.011235  0.882849   \n",
       "2  sj_vgg_variation_weight.h5  0.439880  0.024005  0.865127   \n",
       "3                       tjnet  0.444760  0.010932  0.886008   \n",
       "4                       tjnet  0.428131  0.011775  0.877219   \n",
       "\n",
       "                           input  \n",
       "0  gender,ROI(img_size*img_size)  \n",
       "1            gender,ROI(251*251)  \n",
       "2            gender,ROI(251*251)  \n",
       "3            gender,ROI(251*251)  \n",
       "4            gender,ROI(251*251)  "
      ]
     },
     "execution_count": 17,
     "metadata": {},
     "output_type": "execute_result"
    }
   ],
   "source": [
    "result_df = pd.read_csv(\"../03_model_result/result.csv\")\n",
    "result_df.loc[len(result_df)]=(model_name,mae/12,mse/12,r2,\"gender,ROI(251*251)\")\n",
    "result_df.to_csv(\"../03_model_result/result.csv\",index=False)\n",
    "result_df"
   ]
  },
  {
   "cell_type": "code",
   "execution_count": 17,
   "metadata": {},
   "outputs": [],
   "source": [
    "pred = model.predict(generator(df,model,2))*ba_std+ba_mean\n",
    "month = np.array(df.boneage)\n",
    "pred_all = pred.reshape(-1)"
   ]
  },
  {
   "cell_type": "code",
   "execution_count": 18,
   "metadata": {
    "scrolled": true
   },
   "outputs": [
    {
     "data": {
      "text/plain": [
       "Text(0,0.5,'Predicted Age (Months)')"
      ]
     },
     "execution_count": 18,
     "metadata": {},
     "output_type": "execute_result"
    },
    {
     "data": {
      "image/png": "[encoded data removed]",
      "text/plain": [
       "<Figure size 432x432 with 1 Axes>"
      ]
     },
     "metadata": {},
     "output_type": "display_data"
    }
   ],
   "source": [
    "fig, ax1 = plt.subplots(1,1, figsize = (6,6))\n",
    "ax1.plot(month, pred_all, 'r.', label = 'predictions')\n",
    "ax1.plot(month, month, 'b-', label = 'actual')\n",
    "ax1.legend()\n",
    "ax1.set_xlabel('Actual Age (Months)')\n",
    "ax1.set_ylabel('Predicted Age (Months)')"
   ]
  },
  {
   "cell_type": "code",
   "execution_count": 88,
   "metadata": {},
   "outputs": [
    {
     "data": {
      "text/plain": [
       "(<tf.Tensor: shape=(), dtype=float64, numpy=0.2496220710506425>,\n",
       " 1.3161097574794152)"
      ]
     },
     "execution_count": 88,
     "metadata": {},
     "output_type": "execute_result"
    }
   ],
   "source": [
    "mean_absolute_error(np.round(pred_all),month)/12,mean_squared_error(pred_all,month)/12"
   ]
  },
  {
   "cell_type": "code",
   "execution_count": null,
   "metadata": {},
   "outputs": [],
   "source": []
  }
 ],
 "metadata": {
  "kernelspec": {
   "display_name": "Python 3",
   "language": "python",
   "name": "python3"
  },
  "language_info": {
   "codemirror_mode": {
    "name": "ipython",
    "version": 3
   },
   "file_extension": ".py",
   "mimetype": "text/x-python",
   "name": "python",
   "nbconvert_exporter": "python",
   "pygments_lexer": "ipython3",
   "version": "3.6.8"
  },
  "toc": {
   "base_numbering": 1,
   "nav_menu": {},
   "number_sections": true,
   "sideBar": true,
   "skip_h1_title": false,
   "title_cell": "Table of Contents",
   "title_sidebar": "Contents",
   "toc_cell": false,
   "toc_position": {},
   "toc_section_display": true,
   "toc_window_display": false
  },
  "varInspector": {
   "cols": {
    "lenName": 16,
    "lenType": 16,
    "lenVar": 40
   },
   "kernels_config": {
    "python": {
     "delete_cmd_postfix": "",
     "delete_cmd_prefix": "del ",
     "library": "var_list.py",
     "varRefreshCmd": "print(var_dic_list())"
    },
    "r": {
     "delete_cmd_postfix": ") ",
     "delete_cmd_prefix": "rm(",
     "library": "var_list.r",
     "varRefreshCmd": "cat(var_dic_list()) "
    }
   },
   "types_to_exclude": [
    "module",
    "function",
    "builtin_function_or_method",
    "instance",
    "_Feature"
   ],
   "window_display": false
  }
 },
 "nbformat": 4,
 "nbformat_minor": 2
}
