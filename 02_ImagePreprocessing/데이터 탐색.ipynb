{
 "cells": [
  {
   "cell_type": "code",
   "execution_count": 55,
   "metadata": {
    "ExecuteTime": {
     "end_time": "2020-08-14T07:53:06.827680Z",
     "start_time": "2020-08-14T07:53:06.074270Z"
    }
   },
   "outputs": [],
   "source": [
    "import cv2\n",
    "import os\n",
    "import numpy as np\n",
    "import pandas as pd\n",
    "import matplotlib.pylab as plt\n",
    "import seaborn as sns\n",
    "import math\n",
    "%matplotlib inline"
   ]
  },
  {
   "cell_type": "markdown",
   "metadata": {},
   "source": [
    "## 데이터 불러오기"
   ]
  },
  {
   "cell_type": "code",
   "execution_count": 56,
   "metadata": {
    "ExecuteTime": {
     "end_time": "2020-08-14T05:04:34.666808Z",
     "start_time": "2020-08-14T05:04:34.663808Z"
    }
   },
   "outputs": [],
   "source": [
    "csv_path = \"./00_data/\""
   ]
  },
  {
   "cell_type": "code",
   "execution_count": 57,
   "metadata": {
    "ExecuteTime": {
     "end_time": "2020-08-14T05:04:35.002827Z",
     "start_time": "2020-08-14T05:04:34.988826Z"
    }
   },
   "outputs": [],
   "source": [
    "df = pd.read_csv(csv_path+\"BA_Total.csv\")"
   ]
  },
  {
   "cell_type": "code",
   "execution_count": 58,
   "metadata": {
    "ExecuteTime": {
     "end_time": "2020-08-13T00:20:15.311121Z",
     "start_time": "2020-08-13T00:20:15.277119Z"
    }
   },
   "outputs": [
    {
     "data": {
      "text/html": [
       "<div>\n",
       "<style scoped>\n",
       "    .dataframe tbody tr th:only-of-type {\n",
       "        vertical-align: middle;\n",
       "    }\n",
       "\n",
       "    .dataframe tbody tr th {\n",
       "        vertical-align: top;\n",
       "    }\n",
       "\n",
       "    .dataframe thead th {\n",
       "        text-align: right;\n",
       "    }\n",
       "</style>\n",
       "<table border=\"1\" class=\"dataframe\">\n",
       "  <thead>\n",
       "    <tr style=\"text-align: right;\">\n",
       "      <th></th>\n",
       "      <th>원본 Folder</th>\n",
       "      <th>원본 No.</th>\n",
       "      <th>filename</th>\n",
       "      <th>성별</th>\n",
       "      <th>검사 시 나이</th>\n",
       "      <th>신장</th>\n",
       "      <th>체중</th>\n",
       "      <th>BMI</th>\n",
       "      <th>BA</th>\n",
       "    </tr>\n",
       "  </thead>\n",
       "  <tbody>\n",
       "    <tr>\n",
       "      <th>0</th>\n",
       "      <td>BA(F-3yr)19명</td>\n",
       "      <td>001_F</td>\n",
       "      <td>org001.jpg</td>\n",
       "      <td>1</td>\n",
       "      <td>3.0</td>\n",
       "      <td>88.9</td>\n",
       "      <td>11.3</td>\n",
       "      <td>14.3</td>\n",
       "      <td>3.3</td>\n",
       "    </tr>\n",
       "    <tr>\n",
       "      <th>1</th>\n",
       "      <td>BA(F-3yr)19명</td>\n",
       "      <td>002_F</td>\n",
       "      <td>org002.jpg</td>\n",
       "      <td>1</td>\n",
       "      <td>3.0</td>\n",
       "      <td>95.9</td>\n",
       "      <td>13.5</td>\n",
       "      <td>14.7</td>\n",
       "      <td>1.8</td>\n",
       "    </tr>\n",
       "    <tr>\n",
       "      <th>2</th>\n",
       "      <td>BA(F-3yr)19명</td>\n",
       "      <td>003_F</td>\n",
       "      <td>org003.jpg</td>\n",
       "      <td>1</td>\n",
       "      <td>3.0</td>\n",
       "      <td>88.2</td>\n",
       "      <td>13.0</td>\n",
       "      <td>16.8</td>\n",
       "      <td>2.4</td>\n",
       "    </tr>\n",
       "    <tr>\n",
       "      <th>3</th>\n",
       "      <td>BA(F-3yr)19명</td>\n",
       "      <td>004_F</td>\n",
       "      <td>org004.jpg</td>\n",
       "      <td>1</td>\n",
       "      <td>3.2</td>\n",
       "      <td>88.7</td>\n",
       "      <td>12.9</td>\n",
       "      <td>16.4</td>\n",
       "      <td>2.3</td>\n",
       "    </tr>\n",
       "    <tr>\n",
       "      <th>4</th>\n",
       "      <td>BA(F-3yr)19명</td>\n",
       "      <td>005_F</td>\n",
       "      <td>org005.jpg</td>\n",
       "      <td>1</td>\n",
       "      <td>3.3</td>\n",
       "      <td>90.8</td>\n",
       "      <td>14.0</td>\n",
       "      <td>17.0</td>\n",
       "      <td>4.0</td>\n",
       "    </tr>\n",
       "  </tbody>\n",
       "</table>\n",
       "</div>"
      ],
      "text/plain": [
       "      원본 Folder 원본 No.    filename  성별  검사 시 나이    신장    체중   BMI   BA\n",
       "0  BA(F-3yr)19명  001_F  org001.jpg   1      3.0  88.9  11.3  14.3  3.3\n",
       "1  BA(F-3yr)19명  002_F  org002.jpg   1      3.0  95.9  13.5  14.7  1.8\n",
       "2  BA(F-3yr)19명  003_F  org003.jpg   1      3.0  88.2  13.0  16.8  2.4\n",
       "3  BA(F-3yr)19명  004_F  org004.jpg   1      3.2  88.7  12.9  16.4  2.3\n",
       "4  BA(F-3yr)19명  005_F  org005.jpg   1      3.3  90.8  14.0  17.0  4.0"
      ]
     },
     "execution_count": 58,
     "metadata": {},
     "output_type": "execute_result"
    }
   ],
   "source": [
    "df.head()"
   ]
  },
  {
   "cell_type": "markdown",
   "metadata": {},
   "source": [
    "## 데이터 탐색"
   ]
  },
  {
   "cell_type": "code",
   "execution_count": 59,
   "metadata": {
    "ExecuteTime": {
     "end_time": "2020-08-11T01:17:38.774800Z",
     "start_time": "2020-08-11T01:17:38.743600Z"
    }
   },
   "outputs": [
    {
     "data": {
      "text/plain": [
       "원본 Folder    0\n",
       "원본 No.       0\n",
       "filename     0\n",
       "성별           0\n",
       "검사 시 나이      0\n",
       "신장           0\n",
       "체중           0\n",
       "BMI          0\n",
       "BA           0\n",
       "dtype: int64"
      ]
     },
     "execution_count": 59,
     "metadata": {},
     "output_type": "execute_result"
    }
   ],
   "source": [
    "df.isnull().sum()"
   ]
  },
  {
   "cell_type": "code",
   "execution_count": 60,
   "metadata": {
    "ExecuteTime": {
     "end_time": "2020-08-11T00:44:02.732427Z",
     "start_time": "2020-08-11T00:44:02.672226Z"
    },
    "scrolled": true
   },
   "outputs": [
    {
     "data": {
      "text/html": [
       "<div>\n",
       "<style scoped>\n",
       "    .dataframe tbody tr th:only-of-type {\n",
       "        vertical-align: middle;\n",
       "    }\n",
       "\n",
       "    .dataframe tbody tr th {\n",
       "        vertical-align: top;\n",
       "    }\n",
       "\n",
       "    .dataframe thead th {\n",
       "        text-align: right;\n",
       "    }\n",
       "</style>\n",
       "<table border=\"1\" class=\"dataframe\">\n",
       "  <thead>\n",
       "    <tr style=\"text-align: right;\">\n",
       "      <th></th>\n",
       "      <th>성별</th>\n",
       "      <th>검사 시 나이</th>\n",
       "      <th>신장</th>\n",
       "      <th>체중</th>\n",
       "      <th>BMI</th>\n",
       "      <th>BA</th>\n",
       "    </tr>\n",
       "  </thead>\n",
       "  <tbody>\n",
       "    <tr>\n",
       "      <th>count</th>\n",
       "      <td>441.00000</td>\n",
       "      <td>441.000000</td>\n",
       "      <td>441.000000</td>\n",
       "      <td>441.000000</td>\n",
       "      <td>441.000000</td>\n",
       "      <td>441.000000</td>\n",
       "    </tr>\n",
       "    <tr>\n",
       "      <th>mean</th>\n",
       "      <td>0.47619</td>\n",
       "      <td>5.708520</td>\n",
       "      <td>107.528345</td>\n",
       "      <td>17.774717</td>\n",
       "      <td>15.308617</td>\n",
       "      <td>5.292744</td>\n",
       "    </tr>\n",
       "    <tr>\n",
       "      <th>std</th>\n",
       "      <td>0.50000</td>\n",
       "      <td>1.303854</td>\n",
       "      <td>8.932463</td>\n",
       "      <td>3.503727</td>\n",
       "      <td>1.364524</td>\n",
       "      <td>1.527057</td>\n",
       "    </tr>\n",
       "    <tr>\n",
       "      <th>min</th>\n",
       "      <td>0.00000</td>\n",
       "      <td>3.000000</td>\n",
       "      <td>57.700000</td>\n",
       "      <td>5.700000</td>\n",
       "      <td>8.700000</td>\n",
       "      <td>1.800000</td>\n",
       "    </tr>\n",
       "    <tr>\n",
       "      <th>25%</th>\n",
       "      <td>0.00000</td>\n",
       "      <td>4.700000</td>\n",
       "      <td>101.300000</td>\n",
       "      <td>15.300000</td>\n",
       "      <td>14.300000</td>\n",
       "      <td>4.300000</td>\n",
       "    </tr>\n",
       "    <tr>\n",
       "      <th>50%</th>\n",
       "      <td>0.00000</td>\n",
       "      <td>5.800000</td>\n",
       "      <td>107.700000</td>\n",
       "      <td>17.250000</td>\n",
       "      <td>15.200000</td>\n",
       "      <td>5.300000</td>\n",
       "    </tr>\n",
       "    <tr>\n",
       "      <th>75%</th>\n",
       "      <td>1.00000</td>\n",
       "      <td>6.800000</td>\n",
       "      <td>114.200000</td>\n",
       "      <td>19.800000</td>\n",
       "      <td>16.200000</td>\n",
       "      <td>6.400000</td>\n",
       "    </tr>\n",
       "    <tr>\n",
       "      <th>max</th>\n",
       "      <td>1.00000</td>\n",
       "      <td>7.900000</td>\n",
       "      <td>134.900000</td>\n",
       "      <td>32.100000</td>\n",
       "      <td>22.200000</td>\n",
       "      <td>9.900000</td>\n",
       "    </tr>\n",
       "  </tbody>\n",
       "</table>\n",
       "</div>"
      ],
      "text/plain": [
       "              성별     검사 시 나이          신장          체중         BMI          BA\n",
       "count  441.00000  441.000000  441.000000  441.000000  441.000000  441.000000\n",
       "mean     0.47619    5.708520  107.528345   17.774717   15.308617    5.292744\n",
       "std      0.50000    1.303854    8.932463    3.503727    1.364524    1.527057\n",
       "min      0.00000    3.000000   57.700000    5.700000    8.700000    1.800000\n",
       "25%      0.00000    4.700000  101.300000   15.300000   14.300000    4.300000\n",
       "50%      0.00000    5.800000  107.700000   17.250000   15.200000    5.300000\n",
       "75%      1.00000    6.800000  114.200000   19.800000   16.200000    6.400000\n",
       "max      1.00000    7.900000  134.900000   32.100000   22.200000    9.900000"
      ]
     },
     "execution_count": 60,
     "metadata": {},
     "output_type": "execute_result"
    }
   ],
   "source": [
    "df.describe()"
   ]
  },
  {
   "cell_type": "markdown",
   "metadata": {},
   "source": [
    "### 골연령 그래프"
   ]
  },
  {
   "cell_type": "code",
   "execution_count": 61,
   "metadata": {
    "ExecuteTime": {
     "end_time": "2020-08-14T05:04:38.464089Z",
     "start_time": "2020-08-14T05:04:38.410487Z"
    },
    "scrolled": true
   },
   "outputs": [
    {
     "data": {
      "text/html": [
       "<div>\n",
       "<style scoped>\n",
       "    .dataframe tbody tr th:only-of-type {\n",
       "        vertical-align: middle;\n",
       "    }\n",
       "\n",
       "    .dataframe tbody tr th {\n",
       "        vertical-align: top;\n",
       "    }\n",
       "\n",
       "    .dataframe thead th {\n",
       "        text-align: right;\n",
       "    }\n",
       "</style>\n",
       "<table border=\"1\" class=\"dataframe\">\n",
       "  <thead>\n",
       "    <tr style=\"text-align: right;\">\n",
       "      <th></th>\n",
       "      <th>원본 Folder</th>\n",
       "      <th>원본 No.</th>\n",
       "      <th>filename</th>\n",
       "      <th>성별</th>\n",
       "      <th>검사 시 나이</th>\n",
       "      <th>신장</th>\n",
       "      <th>체중</th>\n",
       "      <th>BMI</th>\n",
       "      <th>BA</th>\n",
       "      <th>boneage</th>\n",
       "      <th>BA_z</th>\n",
       "    </tr>\n",
       "  </thead>\n",
       "  <tbody>\n",
       "    <tr>\n",
       "      <th>0</th>\n",
       "      <td>BA(F-3yr)19명</td>\n",
       "      <td>001_F</td>\n",
       "      <td>org001.jpg</td>\n",
       "      <td>1</td>\n",
       "      <td>3.0</td>\n",
       "      <td>88.9</td>\n",
       "      <td>11.3</td>\n",
       "      <td>14.3</td>\n",
       "      <td>3.3</td>\n",
       "      <td>39.6</td>\n",
       "      <td>-1.304957</td>\n",
       "    </tr>\n",
       "    <tr>\n",
       "      <th>1</th>\n",
       "      <td>BA(F-3yr)19명</td>\n",
       "      <td>002_F</td>\n",
       "      <td>org002.jpg</td>\n",
       "      <td>1</td>\n",
       "      <td>3.0</td>\n",
       "      <td>95.9</td>\n",
       "      <td>13.5</td>\n",
       "      <td>14.7</td>\n",
       "      <td>1.8</td>\n",
       "      <td>21.6</td>\n",
       "      <td>-2.287239</td>\n",
       "    </tr>\n",
       "    <tr>\n",
       "      <th>2</th>\n",
       "      <td>BA(F-3yr)19명</td>\n",
       "      <td>003_F</td>\n",
       "      <td>org003.jpg</td>\n",
       "      <td>1</td>\n",
       "      <td>3.0</td>\n",
       "      <td>88.2</td>\n",
       "      <td>13.0</td>\n",
       "      <td>16.8</td>\n",
       "      <td>2.4</td>\n",
       "      <td>28.8</td>\n",
       "      <td>-1.894327</td>\n",
       "    </tr>\n",
       "    <tr>\n",
       "      <th>3</th>\n",
       "      <td>BA(F-3yr)19명</td>\n",
       "      <td>004_F</td>\n",
       "      <td>org004.jpg</td>\n",
       "      <td>1</td>\n",
       "      <td>3.2</td>\n",
       "      <td>88.7</td>\n",
       "      <td>12.9</td>\n",
       "      <td>16.4</td>\n",
       "      <td>2.3</td>\n",
       "      <td>27.6</td>\n",
       "      <td>-1.959812</td>\n",
       "    </tr>\n",
       "    <tr>\n",
       "      <th>4</th>\n",
       "      <td>BA(F-3yr)19명</td>\n",
       "      <td>005_F</td>\n",
       "      <td>org005.jpg</td>\n",
       "      <td>1</td>\n",
       "      <td>3.3</td>\n",
       "      <td>90.8</td>\n",
       "      <td>14.0</td>\n",
       "      <td>17.0</td>\n",
       "      <td>4.0</td>\n",
       "      <td>48.0</td>\n",
       "      <td>-0.846559</td>\n",
       "    </tr>\n",
       "  </tbody>\n",
       "</table>\n",
       "</div>"
      ],
      "text/plain": [
       "      원본 Folder 원본 No.    filename  성별  검사 시 나이    신장    체중   BMI   BA  \\\n",
       "0  BA(F-3yr)19명  001_F  org001.jpg   1      3.0  88.9  11.3  14.3  3.3   \n",
       "1  BA(F-3yr)19명  002_F  org002.jpg   1      3.0  95.9  13.5  14.7  1.8   \n",
       "2  BA(F-3yr)19명  003_F  org003.jpg   1      3.0  88.2  13.0  16.8  2.4   \n",
       "3  BA(F-3yr)19명  004_F  org004.jpg   1      3.2  88.7  12.9  16.4  2.3   \n",
       "4  BA(F-3yr)19명  005_F  org005.jpg   1      3.3  90.8  14.0  17.0  4.0   \n",
       "\n",
       "   boneage      BA_z  \n",
       "0     39.6 -1.304957  \n",
       "1     21.6 -2.287239  \n",
       "2     28.8 -1.894327  \n",
       "3     27.6 -1.959812  \n",
       "4     48.0 -0.846559  "
      ]
     },
     "execution_count": 61,
     "metadata": {},
     "output_type": "execute_result"
    }
   ],
   "source": [
    "# 파생변수 골연령(개월), 정규화된 값 추가\n",
    "df['boneage'] = df.BA*12\n",
    "ba_mean = df.boneage.mean()\n",
    "ba_std = df.boneage.std()\n",
    "df[\"BA_z\"] = (df.boneage-ba_mean)/ba_std\n",
    "df.head()"
   ]
  },
  {
   "cell_type": "code",
   "execution_count": 62,
   "metadata": {
    "ExecuteTime": {
     "end_time": "2020-08-14T05:04:40.006535Z",
     "start_time": "2020-08-14T05:04:39.801325Z"
    }
   },
   "outputs": [
    {
     "data": {
      "image/png": "[encoded data removed]",
      "text/plain": [
       "<Figure size 720x432 with 1 Axes>"
      ]
     },
     "metadata": {},
     "output_type": "display_data"
    }
   ],
   "source": [
    "plt.figure(figsize=(10,6))\n",
    "plt.hist(df['boneage'], bins=9, color = 'forestgreen')\n",
    "plt.xlabel(\"Bone Age(months)\", fontsize=16)\n",
    "plt.ylabel(\"Count\", fontsize=16)\n",
    "plt.show()"
   ]
  },
  {
   "cell_type": "code",
   "execution_count": 64,
   "metadata": {
    "ExecuteTime": {
     "end_time": "2020-08-14T05:04:40.744569Z",
     "start_time": "2020-08-14T05:04:40.624364Z"
    }
   },
   "outputs": [
    {
     "name": "stderr",
     "output_type": "stream",
     "text": [
      "/home/centos/anaconda3/lib/python3.6/site-packages/numpy/core/_asarray.py:83: VisibleDeprecationWarning: Creating an ndarray from ragged nested sequences (which is a list-or-tuple of lists-or-tuples-or ndarrays with different lengths or shapes) is deprecated. If you meant to do this, you must specify 'dtype=object' when creating the ndarray\n",
      "  return array(a, dtype, copy=False, order=order)\n",
      "/home/centos/anaconda3/lib/python3.6/site-packages/numpy/core/_asarray.py:83: VisibleDeprecationWarning: Creating an ndarray from ragged nested sequences (which is a list-or-tuple of lists-or-tuples-or ndarrays with different lengths or shapes) is deprecated. If you meant to do this, you must specify 'dtype=object' when creating the ndarray\n",
      "  return array(a, dtype, copy=False, order=order)\n"
     ]
    },
    {
     "data": {
      "image/png": "[encoded data removed]",
      "text/plain": [
       "<Figure size 720x432 with 1 Axes>"
      ]
     },
     "metadata": {},
     "output_type": "display_data"
    }
   ],
   "source": [
    "plt.figure(figsize=(10,6))\n",
    "m = df[\"성별\"].loc[df[\"성별\"]==1]\n",
    "f = df[\"성별\"].loc[df[\"성별\"]==0]\n",
    "plt.hist([m, f], bins=2, color = ('lightblue', 'royalblue'))\n",
    "plt.xlabel(\"Sex\", fontsize=16)\n",
    "plt.ylabel(\"Count\", fontsize=16)\n",
    "plt.show()"
   ]
  },
  {
   "cell_type": "markdown",
   "metadata": {},
   "source": [
    "### 성별-골연령 히스토그램"
   ]
  },
  {
   "cell_type": "code",
   "execution_count": 65,
   "metadata": {
    "ExecuteTime": {
     "end_time": "2020-08-14T05:04:42.947220Z",
     "start_time": "2020-08-14T05:04:42.898019Z"
    }
   },
   "outputs": [
    {
     "data": {
      "text/html": [
       "<div>\n",
       "<style scoped>\n",
       "    .dataframe tbody tr th:only-of-type {\n",
       "        vertical-align: middle;\n",
       "    }\n",
       "\n",
       "    .dataframe tbody tr th {\n",
       "        vertical-align: top;\n",
       "    }\n",
       "\n",
       "    .dataframe thead th {\n",
       "        text-align: right;\n",
       "    }\n",
       "</style>\n",
       "<table border=\"1\" class=\"dataframe\">\n",
       "  <thead>\n",
       "    <tr style=\"text-align: right;\">\n",
       "      <th></th>\n",
       "      <th>원본 Folder</th>\n",
       "      <th>원본 No.</th>\n",
       "      <th>filename</th>\n",
       "      <th>성별</th>\n",
       "      <th>검사 시 나이</th>\n",
       "      <th>신장</th>\n",
       "      <th>체중</th>\n",
       "      <th>BMI</th>\n",
       "      <th>BA</th>\n",
       "      <th>boneage</th>\n",
       "      <th>BA_z</th>\n",
       "      <th>BA_GROUP</th>\n",
       "    </tr>\n",
       "  </thead>\n",
       "  <tbody>\n",
       "    <tr>\n",
       "      <th>0</th>\n",
       "      <td>BA(F-3yr)19명</td>\n",
       "      <td>001_F</td>\n",
       "      <td>org001.jpg</td>\n",
       "      <td>1</td>\n",
       "      <td>3.0</td>\n",
       "      <td>88.9</td>\n",
       "      <td>11.3</td>\n",
       "      <td>14.3</td>\n",
       "      <td>3.3</td>\n",
       "      <td>39.6</td>\n",
       "      <td>-1.304957</td>\n",
       "      <td>3</td>\n",
       "    </tr>\n",
       "    <tr>\n",
       "      <th>1</th>\n",
       "      <td>BA(F-3yr)19명</td>\n",
       "      <td>002_F</td>\n",
       "      <td>org002.jpg</td>\n",
       "      <td>1</td>\n",
       "      <td>3.0</td>\n",
       "      <td>95.9</td>\n",
       "      <td>13.5</td>\n",
       "      <td>14.7</td>\n",
       "      <td>1.8</td>\n",
       "      <td>21.6</td>\n",
       "      <td>-2.287239</td>\n",
       "      <td>1</td>\n",
       "    </tr>\n",
       "    <tr>\n",
       "      <th>2</th>\n",
       "      <td>BA(F-3yr)19명</td>\n",
       "      <td>003_F</td>\n",
       "      <td>org003.jpg</td>\n",
       "      <td>1</td>\n",
       "      <td>3.0</td>\n",
       "      <td>88.2</td>\n",
       "      <td>13.0</td>\n",
       "      <td>16.8</td>\n",
       "      <td>2.4</td>\n",
       "      <td>28.8</td>\n",
       "      <td>-1.894327</td>\n",
       "      <td>2</td>\n",
       "    </tr>\n",
       "    <tr>\n",
       "      <th>3</th>\n",
       "      <td>BA(F-3yr)19명</td>\n",
       "      <td>004_F</td>\n",
       "      <td>org004.jpg</td>\n",
       "      <td>1</td>\n",
       "      <td>3.2</td>\n",
       "      <td>88.7</td>\n",
       "      <td>12.9</td>\n",
       "      <td>16.4</td>\n",
       "      <td>2.3</td>\n",
       "      <td>27.6</td>\n",
       "      <td>-1.959812</td>\n",
       "      <td>2</td>\n",
       "    </tr>\n",
       "    <tr>\n",
       "      <th>4</th>\n",
       "      <td>BA(F-3yr)19명</td>\n",
       "      <td>005_F</td>\n",
       "      <td>org005.jpg</td>\n",
       "      <td>1</td>\n",
       "      <td>3.3</td>\n",
       "      <td>90.8</td>\n",
       "      <td>14.0</td>\n",
       "      <td>17.0</td>\n",
       "      <td>4.0</td>\n",
       "      <td>48.0</td>\n",
       "      <td>-0.846559</td>\n",
       "      <td>4</td>\n",
       "    </tr>\n",
       "  </tbody>\n",
       "</table>\n",
       "</div>"
      ],
      "text/plain": [
       "      원본 Folder 원본 No.    filename  성별  검사 시 나이    신장    체중   BMI   BA  \\\n",
       "0  BA(F-3yr)19명  001_F  org001.jpg   1      3.0  88.9  11.3  14.3  3.3   \n",
       "1  BA(F-3yr)19명  002_F  org002.jpg   1      3.0  95.9  13.5  14.7  1.8   \n",
       "2  BA(F-3yr)19명  003_F  org003.jpg   1      3.0  88.2  13.0  16.8  2.4   \n",
       "3  BA(F-3yr)19명  004_F  org004.jpg   1      3.2  88.7  12.9  16.4  2.3   \n",
       "4  BA(F-3yr)19명  005_F  org005.jpg   1      3.3  90.8  14.0  17.0  4.0   \n",
       "\n",
       "   boneage      BA_z  BA_GROUP  \n",
       "0     39.6 -1.304957         3  \n",
       "1     21.6 -2.287239         1  \n",
       "2     28.8 -1.894327         2  \n",
       "3     27.6 -1.959812         2  \n",
       "4     48.0 -0.846559         4  "
      ]
     },
     "execution_count": 65,
     "metadata": {},
     "output_type": "execute_result"
    }
   ],
   "source": [
    "#파생변수 골연령대 추가\n",
    "df[\"BA_GROUP\"] = df[\"BA\"].map(lambda x: int(x))\n",
    "df.head()"
   ]
  },
  {
   "cell_type": "code",
   "execution_count": 66,
   "metadata": {
    "ExecuteTime": {
     "end_time": "2020-08-14T05:04:43.895456Z",
     "start_time": "2020-08-14T05:04:43.863855Z"
    }
   },
   "outputs": [
    {
     "data": {
      "text/html": [
       "<div>\n",
       "<style scoped>\n",
       "    .dataframe tbody tr th:only-of-type {\n",
       "        vertical-align: middle;\n",
       "    }\n",
       "\n",
       "    .dataframe tbody tr th {\n",
       "        vertical-align: top;\n",
       "    }\n",
       "\n",
       "    .dataframe thead th {\n",
       "        text-align: right;\n",
       "    }\n",
       "</style>\n",
       "<table border=\"1\" class=\"dataframe\">\n",
       "  <thead>\n",
       "    <tr style=\"text-align: right;\">\n",
       "      <th></th>\n",
       "      <th>원본 Folder</th>\n",
       "      <th>원본 No.</th>\n",
       "      <th>filename</th>\n",
       "      <th>성별</th>\n",
       "      <th>검사 시 나이</th>\n",
       "      <th>신장</th>\n",
       "      <th>체중</th>\n",
       "      <th>BMI</th>\n",
       "      <th>BA</th>\n",
       "      <th>boneage</th>\n",
       "      <th>BA_z</th>\n",
       "      <th>BA_GROUP</th>\n",
       "    </tr>\n",
       "  </thead>\n",
       "  <tbody>\n",
       "    <tr>\n",
       "      <th>0</th>\n",
       "      <td>BA(F-3yr)19명</td>\n",
       "      <td>001_F</td>\n",
       "      <td>org001.jpg</td>\n",
       "      <td>Female</td>\n",
       "      <td>3.0</td>\n",
       "      <td>88.9</td>\n",
       "      <td>11.3</td>\n",
       "      <td>14.3</td>\n",
       "      <td>3.3</td>\n",
       "      <td>39.6</td>\n",
       "      <td>-1.304957</td>\n",
       "      <td>3</td>\n",
       "    </tr>\n",
       "    <tr>\n",
       "      <th>1</th>\n",
       "      <td>BA(F-3yr)19명</td>\n",
       "      <td>002_F</td>\n",
       "      <td>org002.jpg</td>\n",
       "      <td>Female</td>\n",
       "      <td>3.0</td>\n",
       "      <td>95.9</td>\n",
       "      <td>13.5</td>\n",
       "      <td>14.7</td>\n",
       "      <td>1.8</td>\n",
       "      <td>21.6</td>\n",
       "      <td>-2.287239</td>\n",
       "      <td>1</td>\n",
       "    </tr>\n",
       "    <tr>\n",
       "      <th>2</th>\n",
       "      <td>BA(F-3yr)19명</td>\n",
       "      <td>003_F</td>\n",
       "      <td>org003.jpg</td>\n",
       "      <td>Female</td>\n",
       "      <td>3.0</td>\n",
       "      <td>88.2</td>\n",
       "      <td>13.0</td>\n",
       "      <td>16.8</td>\n",
       "      <td>2.4</td>\n",
       "      <td>28.8</td>\n",
       "      <td>-1.894327</td>\n",
       "      <td>2</td>\n",
       "    </tr>\n",
       "    <tr>\n",
       "      <th>3</th>\n",
       "      <td>BA(F-3yr)19명</td>\n",
       "      <td>004_F</td>\n",
       "      <td>org004.jpg</td>\n",
       "      <td>Female</td>\n",
       "      <td>3.2</td>\n",
       "      <td>88.7</td>\n",
       "      <td>12.9</td>\n",
       "      <td>16.4</td>\n",
       "      <td>2.3</td>\n",
       "      <td>27.6</td>\n",
       "      <td>-1.959812</td>\n",
       "      <td>2</td>\n",
       "    </tr>\n",
       "    <tr>\n",
       "      <th>4</th>\n",
       "      <td>BA(F-3yr)19명</td>\n",
       "      <td>005_F</td>\n",
       "      <td>org005.jpg</td>\n",
       "      <td>Female</td>\n",
       "      <td>3.3</td>\n",
       "      <td>90.8</td>\n",
       "      <td>14.0</td>\n",
       "      <td>17.0</td>\n",
       "      <td>4.0</td>\n",
       "      <td>48.0</td>\n",
       "      <td>-0.846559</td>\n",
       "      <td>4</td>\n",
       "    </tr>\n",
       "  </tbody>\n",
       "</table>\n",
       "</div>"
      ],
      "text/plain": [
       "      원본 Folder 원본 No.    filename      성별  검사 시 나이    신장    체중   BMI   BA  \\\n",
       "0  BA(F-3yr)19명  001_F  org001.jpg  Female      3.0  88.9  11.3  14.3  3.3   \n",
       "1  BA(F-3yr)19명  002_F  org002.jpg  Female      3.0  95.9  13.5  14.7  1.8   \n",
       "2  BA(F-3yr)19명  003_F  org003.jpg  Female      3.0  88.2  13.0  16.8  2.4   \n",
       "3  BA(F-3yr)19명  004_F  org004.jpg  Female      3.2  88.7  12.9  16.4  2.3   \n",
       "4  BA(F-3yr)19명  005_F  org005.jpg  Female      3.3  90.8  14.0  17.0  4.0   \n",
       "\n",
       "   boneage      BA_z  BA_GROUP  \n",
       "0     39.6 -1.304957         3  \n",
       "1     21.6 -2.287239         1  \n",
       "2     28.8 -1.894327         2  \n",
       "3     27.6 -1.959812         2  \n",
       "4     48.0 -0.846559         4  "
      ]
     },
     "execution_count": 66,
     "metadata": {},
     "output_type": "execute_result"
    }
   ],
   "source": [
    "#성별 값 1, 2를 텍스트 Male, Female로 변경\n",
    "df[\"성별\"] = df[\"성별\"].replace([0, 1], [\"Male\", \"Female\"])\n",
    "df.head()"
   ]
  },
  {
   "cell_type": "code",
   "execution_count": 67,
   "metadata": {
    "ExecuteTime": {
     "end_time": "2020-08-14T05:04:46.714297Z",
     "start_time": "2020-08-14T05:04:46.627094Z"
    }
   },
   "outputs": [
    {
     "data": {
      "text/html": [
       "<div>\n",
       "<style scoped>\n",
       "    .dataframe tbody tr th:only-of-type {\n",
       "        vertical-align: middle;\n",
       "    }\n",
       "\n",
       "    .dataframe tbody tr th {\n",
       "        vertical-align: top;\n",
       "    }\n",
       "\n",
       "    .dataframe thead tr th {\n",
       "        text-align: left;\n",
       "    }\n",
       "\n",
       "    .dataframe thead tr:last-of-type th {\n",
       "        text-align: right;\n",
       "    }\n",
       "</style>\n",
       "<table border=\"1\" class=\"dataframe\">\n",
       "  <thead>\n",
       "    <tr>\n",
       "      <th></th>\n",
       "      <th colspan=\"10\" halign=\"left\">count</th>\n",
       "    </tr>\n",
       "    <tr>\n",
       "      <th></th>\n",
       "      <th colspan=\"10\" halign=\"left\">filename</th>\n",
       "    </tr>\n",
       "    <tr>\n",
       "      <th>BA_GROUP</th>\n",
       "      <th>1</th>\n",
       "      <th>2</th>\n",
       "      <th>3</th>\n",
       "      <th>4</th>\n",
       "      <th>5</th>\n",
       "      <th>6</th>\n",
       "      <th>7</th>\n",
       "      <th>8</th>\n",
       "      <th>9</th>\n",
       "      <th>All</th>\n",
       "    </tr>\n",
       "    <tr>\n",
       "      <th>성별</th>\n",
       "      <th></th>\n",
       "      <th></th>\n",
       "      <th></th>\n",
       "      <th></th>\n",
       "      <th></th>\n",
       "      <th></th>\n",
       "      <th></th>\n",
       "      <th></th>\n",
       "      <th></th>\n",
       "      <th></th>\n",
       "    </tr>\n",
       "  </thead>\n",
       "  <tbody>\n",
       "    <tr>\n",
       "      <th>Female</th>\n",
       "      <td>1</td>\n",
       "      <td>12</td>\n",
       "      <td>30</td>\n",
       "      <td>41</td>\n",
       "      <td>52</td>\n",
       "      <td>37</td>\n",
       "      <td>26</td>\n",
       "      <td>7</td>\n",
       "      <td>4</td>\n",
       "      <td>210</td>\n",
       "    </tr>\n",
       "    <tr>\n",
       "      <th>Male</th>\n",
       "      <td>1</td>\n",
       "      <td>10</td>\n",
       "      <td>40</td>\n",
       "      <td>44</td>\n",
       "      <td>61</td>\n",
       "      <td>49</td>\n",
       "      <td>19</td>\n",
       "      <td>6</td>\n",
       "      <td>1</td>\n",
       "      <td>231</td>\n",
       "    </tr>\n",
       "    <tr>\n",
       "      <th>All</th>\n",
       "      <td>2</td>\n",
       "      <td>22</td>\n",
       "      <td>70</td>\n",
       "      <td>85</td>\n",
       "      <td>113</td>\n",
       "      <td>86</td>\n",
       "      <td>45</td>\n",
       "      <td>13</td>\n",
       "      <td>5</td>\n",
       "      <td>441</td>\n",
       "    </tr>\n",
       "  </tbody>\n",
       "</table>\n",
       "</div>"
      ],
      "text/plain": [
       "            count                                     \n",
       "         filename                                     \n",
       "BA_GROUP        1   2   3   4    5   6   7   8  9  All\n",
       "성별                                                    \n",
       "Female          1  12  30  41   52  37  26   7  4  210\n",
       "Male            1  10  40  44   61  49  19   6  1  231\n",
       "All             2  22  70  85  113  86  45  13  5  441"
      ]
     },
     "execution_count": 67,
     "metadata": {},
     "output_type": "execute_result"
    }
   ],
   "source": [
    "#성별, BA 연령대로 피벗테이블\n",
    "df_ = df.loc[:, [\"filename\", \"성별\", \"BA_GROUP\"]]\n",
    "df_pivot = df_.pivot_table(index=[\"성별\"], columns=[\"BA_GROUP\"], values=[\"filename\"], aggfunc=[\"count\"], fill_value=0, margins=True)\n",
    "df_pivot"
   ]
  },
  {
   "cell_type": "code",
   "execution_count": 68,
   "metadata": {
    "scrolled": false
   },
   "outputs": [
    {
     "name": "stderr",
     "output_type": "stream",
     "text": [
      "/home/centos/anaconda3/lib/python3.6/site-packages/numpy/core/_asarray.py:83: VisibleDeprecationWarning: Creating an ndarray from ragged nested sequences (which is a list-or-tuple of lists-or-tuples-or ndarrays with different lengths or shapes) is deprecated. If you meant to do this, you must specify 'dtype=object' when creating the ndarray\n",
      "  return array(a, dtype, copy=False, order=order)\n",
      "/home/centos/anaconda3/lib/python3.6/site-packages/numpy/core/_asarray.py:83: VisibleDeprecationWarning: Creating an ndarray from ragged nested sequences (which is a list-or-tuple of lists-or-tuples-or ndarrays with different lengths or shapes) is deprecated. If you meant to do this, you must specify 'dtype=object' when creating the ndarray\n",
      "  return array(a, dtype, copy=False, order=order)\n"
     ]
    },
    {
     "data": {
      "image/png": "[encoded data removed]",
      "text/plain": [
       "<Figure size 720x432 with 1 Axes>"
      ]
     },
     "metadata": {},
     "output_type": "display_data"
    }
   ],
   "source": [
    "#골연령대 기준으로 히스토그램\n",
    "plt.figure(figsize=(10,6))\n",
    "m = df.loc[df[\"성별\"]==\"Male\"][\"BA_GROUP\"]\n",
    "f = df.loc[df[\"성별\"]==\"Female\"][\"BA_GROUP\"]\n",
    "plt.hist([m, f], bins=9, color = ['royalblue', 'lightblue'])\n",
    "plt.legend([\"Male\", \"Female\"], fontsize=20)\n",
    "plt.xlabel(\"Bone Age(Group)\", fontsize=16)\n",
    "plt.ylabel(\"Count\", fontsize=16)\n",
    "plt.show()"
   ]
  },
  {
   "cell_type": "code",
   "execution_count": 19,
   "metadata": {},
   "outputs": [
    {
     "name": "stderr",
     "output_type": "stream",
     "text": [
      "/home/centos/anaconda3/lib/python3.6/site-packages/numpy/core/_asarray.py:83: VisibleDeprecationWarning: Creating an ndarray from ragged nested sequences (which is a list-or-tuple of lists-or-tuples-or ndarrays with different lengths or shapes) is deprecated. If you meant to do this, you must specify 'dtype=object' when creating the ndarray\n",
      "  return array(a, dtype, copy=False, order=order)\n",
      "/home/centos/anaconda3/lib/python3.6/site-packages/numpy/core/_asarray.py:83: VisibleDeprecationWarning: Creating an ndarray from ragged nested sequences (which is a list-or-tuple of lists-or-tuples-or ndarrays with different lengths or shapes) is deprecated. If you meant to do this, you must specify 'dtype=object' when creating the ndarray\n",
      "  return array(a, dtype, copy=False, order=order)\n"
     ]
    },
    {
     "data": {
      "image/png": "[encoded data removed]",
      "text/plain": [
       "<Figure size 720x432 with 1 Axes>"
      ]
     },
     "metadata": {},
     "output_type": "display_data"
    }
   ],
   "source": [
    "#골열령 기준으로 히스토그램\n",
    "plt.figure(figsize=(10,6))\n",
    "m = df.loc[df[\"성별\"]==\"Male\"][\"BA\"]\n",
    "f = df.loc[df[\"성별\"]==\"Female\"][\"BA\"]\n",
    "plt.hist([m, f], bins=45)\n",
    "plt.legend([\"Male\", \"Female\"], fontsize=20)\n",
    "plt.xlabel(\"Bone Age\", fontsize=16)\n",
    "plt.ylabel(\"Count\", fontsize=16)\n",
    "plt.show()"
   ]
  },
  {
   "cell_type": "markdown",
   "metadata": {},
   "source": [
    "### 신장-골연령 산점도"
   ]
  },
  {
   "cell_type": "code",
   "execution_count": 40,
   "metadata": {},
   "outputs": [
    {
     "data": {
      "image/png": "[encoded data removed]",
      "text/plain": [
       "<Figure size 720x576 with 1 Axes>"
      ]
     },
     "metadata": {},
     "output_type": "display_data"
    }
   ],
   "source": [
    "plt.figure(figsize=(10,8))\n",
    "plt.scatter(x=df[\"BA\"], y=df[\"신장\"])\n",
    "plt.xlabel(\"Bone AGE\", fontsize=16)\n",
    "plt.ylabel(\"Height\", fontsize=16)\n",
    "plt.show()"
   ]
  },
  {
   "cell_type": "code",
   "execution_count": null,
   "metadata": {},
   "outputs": [],
   "source": []
  }
 ],
 "metadata": {
  "kernelspec": {
   "display_name": "Python 3",
   "language": "python",
   "name": "python3"
  },
  "language_info": {
   "codemirror_mode": {
    "name": "ipython",
    "version": 3
   },
   "file_extension": ".py",
   "mimetype": "text/x-python",
   "name": "python",
   "nbconvert_exporter": "python",
   "pygments_lexer": "ipython3",
   "version": "3.6.8"
  },
  "toc": {
   "base_numbering": 1,
   "nav_menu": {},
   "number_sections": true,
   "sideBar": true,
   "skip_h1_title": false,
   "title_cell": "Table of Contents",
   "title_sidebar": "Contents",
   "toc_cell": false,
   "toc_position": {},
   "toc_section_display": true,
   "toc_window_display": false
  },
  "varInspector": {
   "cols": {
    "lenName": 16,
    "lenType": 16,
    "lenVar": 40
   },
   "kernels_config": {
    "python": {
     "delete_cmd_postfix": "",
     "delete_cmd_prefix": "del ",
     "library": "var_list.py",
     "varRefreshCmd": "print(var_dic_list())"
    },
    "r": {
     "delete_cmd_postfix": ") ",
     "delete_cmd_prefix": "rm(",
     "library": "var_list.r",
     "varRefreshCmd": "cat(var_dic_list()) "
    }
   },
   "types_to_exclude": [
    "module",
    "function",
    "builtin_function_or_method",
    "instance",
    "_Feature"
   ],
   "window_display": false
  }
 },
 "nbformat": 4,
 "nbformat_minor": 4
}
